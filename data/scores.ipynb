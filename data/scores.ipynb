{
 "cells": [
  {
   "cell_type": "markdown",
   "id": "69d5b7aa",
   "metadata": {},
   "source": [
    "This notebook shows you how to use the scores dataframe."
   ]
  },
  {
   "cell_type": "markdown",
   "id": "4d24429b",
   "metadata": {},
   "source": [
    "First, load the .parquet file into a pandas dataframe."
   ]
  },
  {
   "cell_type": "code",
   "execution_count": 13,
   "id": "40becd02",
   "metadata": {},
   "outputs": [
    {
     "ename": "ImportError",
     "evalue": "cannot import name 'array_from_scores' from 'helpers' (/Users/alecramsay/dev/rdametrics/data/helpers.py)",
     "output_type": "error",
     "traceback": [
      "\u001b[31m---------------------------------------------------------------------------\u001b[39m",
      "\u001b[31mImportError\u001b[39m                               Traceback (most recent call last)",
      "\u001b[36mCell\u001b[39m\u001b[36m \u001b[39m\u001b[32mIn[13]\u001b[39m\u001b[32m, line 3\u001b[39m\n\u001b[32m      1\u001b[39m \u001b[38;5;28;01mimport\u001b[39;00m\u001b[38;5;250m \u001b[39m\u001b[34;01mpandas\u001b[39;00m\u001b[38;5;250m \u001b[39m\u001b[38;5;28;01mas\u001b[39;00m\u001b[38;5;250m \u001b[39m\u001b[34;01mpd\u001b[39;00m\n\u001b[32m----> \u001b[39m\u001b[32m3\u001b[39m \u001b[38;5;28;01mfrom\u001b[39;00m\u001b[38;5;250m \u001b[39m\u001b[34;01mhelpers\u001b[39;00m\u001b[38;5;250m \u001b[39m\u001b[38;5;28;01mimport\u001b[39;00m load_scores, array_from_scores\n\u001b[32m      5\u001b[39m scores_path: \u001b[38;5;28mstr\u001b[39m = \u001b[33m\"\u001b[39m\u001b[33m~/local/beta-ensembles/prepackaged/scores/scores_df.parquet\u001b[39m\u001b[33m\"\u001b[39m\n\u001b[32m      6\u001b[39m scores_df: pd.DataFrame = load_scores(scores_path)\n",
      "\u001b[31mImportError\u001b[39m: cannot import name 'array_from_scores' from 'helpers' (/Users/alecramsay/dev/rdametrics/data/helpers.py)"
     ]
    }
   ],
   "source": [
    "import pandas as pd\n",
    "\n",
    "from helpers import load_scores, array_from_scores\n",
    "\n",
    "scores_path: str = \"~/local/beta-ensembles/prepackaged/scores/scores_df.parquet\"\n",
    "scores_df: pd.DataFrame = load_scores(scores_path)\n",
    "scores_df.head()"
   ]
  },
  {
   "cell_type": "markdown",
   "id": "8115d86f",
   "metadata": {},
   "source": [
    "Then you can either iterate over the rows of the dataframe checking the values of the columns."
   ]
  },
  {
   "cell_type": "code",
   "execution_count": 11,
   "id": "297d6476",
   "metadata": {},
   "outputs": [
    {
     "name": "stdout",
     "output_type": "stream",
     "text": [
      "FL / congress / A0 -- 11.87 seats\n",
      "FL / congress / A0 -- 11.68 seats\n",
      "FL / congress / A0 -- 12.19 seats\n",
      "FL / congress / A0 -- 12.19 seats\n",
      "FL / congress / A0 -- 12.86 seats\n",
      "FL / congress / A0 -- 12.55 seats\n",
      "FL / congress / A0 -- 12.17 seats\n",
      "FL / congress / A0 -- 11.96 seats\n",
      "FL / congress / A0 -- 12.85 seats\n",
      "FL / congress / A0 -- 12.57 seats\n",
      "FL / congress / A0 -- 11.56 seats\n",
      "FL / congress / A0 -- 11.74 seats\n"
     ]
    }
   ],
   "source": [
    "for index, row in scores_df.iterrows():\n",
    "    print(f\"{row['state']} / {row['chamber']} / {row['ensemble']} -- {row['estimated_seats']:.2f} seats\")\n",
    "\n",
    "    if index > 10: # type: ignore\n",
    "        break"
   ]
  },
  {
   "cell_type": "markdown",
   "id": "4fd53815",
   "metadata": {},
   "source": [
    "Or you can \"index\" into the subset of the dataframe that you are interested in."
   ]
  },
  {
   "cell_type": "code",
   "execution_count": 12,
   "id": "5853d12f",
   "metadata": {},
   "outputs": [
    {
     "ename": "NameError",
     "evalue": "name 'array_from_scores' is not defined",
     "output_type": "error",
     "traceback": [
      "\u001b[31m---------------------------------------------------------------------------\u001b[39m",
      "\u001b[31mNameError\u001b[39m                                 Traceback (most recent call last)",
      "\u001b[36mCell\u001b[39m\u001b[36m \u001b[39m\u001b[32mIn[12]\u001b[39m\u001b[32m, line 8\u001b[39m\n\u001b[32m      6\u001b[39m \u001b[38;5;28;01mfor\u001b[39;00m chamber \u001b[38;5;129;01min\u001b[39;00m chambers:\n\u001b[32m      7\u001b[39m     \u001b[38;5;28;01mfor\u001b[39;00m ensemble \u001b[38;5;129;01min\u001b[39;00m ensembles:\n\u001b[32m----> \u001b[39m\u001b[32m8\u001b[39m         arr: np.ndarray = \u001b[43marray_from_scores\u001b[49m(xx, chamber, ensemble, \u001b[33m'\u001b[39m\u001b[33mestimated_seats\u001b[39m\u001b[33m'\u001b[39m, scores_df)\n\u001b[32m      9\u001b[39m         \u001b[38;5;28mprint\u001b[39m(\u001b[33mf\u001b[39m\u001b[33m\"\u001b[39m\u001b[38;5;132;01m{\u001b[39;00mxx\u001b[38;5;132;01m}\u001b[39;00m\u001b[33m / \u001b[39m\u001b[38;5;132;01m{\u001b[39;00mchamber\u001b[38;5;132;01m}\u001b[39;00m\u001b[33m / \u001b[39m\u001b[38;5;132;01m{\u001b[39;00mensemble\u001b[38;5;132;01m}\u001b[39;00m\u001b[33m -- \u001b[39m\u001b[38;5;132;01m{\u001b[39;00marr.shape[\u001b[32m0\u001b[39m]\u001b[38;5;132;01m}\u001b[39;00m\u001b[33m rows, \u001b[39m\u001b[38;5;132;01m{\u001b[39;00marr.shape[\u001b[32m1\u001b[39m]\u001b[38;5;132;01m}\u001b[39;00m\u001b[33m columns\u001b[39m\u001b[33m\"\u001b[39m)\n\u001b[32m     11\u001b[39m         \u001b[38;5;28;01mbreak\u001b[39;00m\n",
      "\u001b[31mNameError\u001b[39m: name 'array_from_scores' is not defined"
     ]
    }
   ],
   "source": [
    "import numpy as np\n",
    "\n",
    "from constants import states, chambers, ensembles\n",
    "\n",
    "for xx in states:\n",
    "    for chamber in chambers:\n",
    "        for ensemble in ensembles:\n",
    "            arr: np.ndarray = array_from_scores(xx, chamber, ensemble, 'estimated_seats', scores_df)\n",
    "            print(f\"{xx} / {chamber} / {ensemble} -- {arr.shape[0]} rows, {arr.shape[1]} columns\")\n",
    "\n",
    "            break"
   ]
  },
  {
   "cell_type": "code",
   "execution_count": null,
   "id": "9ff43907",
   "metadata": {},
   "outputs": [],
   "source": []
  }
 ],
 "metadata": {
  "kernelspec": {
   "display_name": "rdametrics",
   "language": "python",
   "name": "python3"
  },
  "language_info": {
   "codemirror_mode": {
    "name": "ipython",
    "version": 3
   },
   "file_extension": ".py",
   "mimetype": "text/x-python",
   "name": "python",
   "nbconvert_exporter": "python",
   "pygments_lexer": "ipython3",
   "version": "3.13.1"
  }
 },
 "nbformat": 4,
 "nbformat_minor": 5
}
