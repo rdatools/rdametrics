{
 "cells": [
  {
   "cell_type": "markdown",
   "id": "fb3669f5",
   "metadata": {},
   "source": [
    "This notebook shows you how to use the aggregates.\n",
    "\n",
    "My initial approach of combining all the aggregates into a single file was not a good solution.\n",
    "The file was huge--over 40GB--and accessing an aggregate was very slow.\n",
    "So this second approach leverages the zip files. \n",
    "They're a little bigger than just the by-district files together, but, by being segmented by state, chamber, ensemble, and category, they effectively enable indexed access to the data."
   ]
  },
  {
   "cell_type": "code",
   "execution_count": 1,
   "id": "24604f02",
   "metadata": {},
   "outputs": [
    {
     "data": {
      "text/plain": [
       "array([[158208, 212301, 182018, ..., 267012, 136706, 235214],\n",
       "       [131930, 150039, 180315, ..., 163424, 147636, 206816],\n",
       "       [179715, 156178, 259936, ..., 186369, 211890, 195361],\n",
       "       ...,\n",
       "       [184620, 145274, 266776, ..., 212789, 175130, 216237],\n",
       "       [216017, 239641, 239395, ..., 120427, 156315, 180391],\n",
       "       [190524, 149983, 153222, ..., 150012, 235040, 180098]])"
      ]
     },
     "execution_count": 1,
     "metadata": {},
     "output_type": "execute_result"
    }
   ],
   "source": [
    "from typing import List, Dict, Any\n",
    "\n",
    "import numpy as np\n",
    "\n",
    "from helpers import load_aggregates, arr_from_aggregates\n",
    "\n",
    "zip_dir: str = \"~/local/beta-ensembles/zipped\"\n",
    "\n",
    "xx: str = \"NC\"\n",
    "chamber: str = \"congress\"\n",
    "ensemble: str = \"A0\"\n",
    "category: str = \"partisan\"\n",
    "\n",
    "loaded_aggregates: List[Dict[str, Any]] = load_aggregates(\n",
    "    xx, chamber, ensemble, category, zip_dir\n",
    ")\n",
    "\n",
    "aggregate: str = \"dem_by_district\"\n",
    "\n",
    "arr: np.ndarray = arr_from_aggregates(\"dem_by_district\", loaded_aggregates)\n",
    "arr"
   ]
  },
  {
   "cell_type": "code",
   "execution_count": null,
   "id": "c5438f3f",
   "metadata": {},
   "outputs": [],
   "source": []
  }
 ],
 "metadata": {
  "kernelspec": {
   "display_name": "rdametrics",
   "language": "python",
   "name": "python3"
  },
  "language_info": {
   "codemirror_mode": {
    "name": "ipython",
    "version": 3
   },
   "file_extension": ".py",
   "mimetype": "text/x-python",
   "name": "python",
   "nbconvert_exporter": "python",
   "pygments_lexer": "ipython3",
   "version": "3.13.1"
  }
 },
 "nbformat": 4,
 "nbformat_minor": 5
}
