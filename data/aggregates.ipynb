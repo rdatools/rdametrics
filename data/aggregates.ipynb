{
 "cells": [
  {
   "cell_type": "markdown",
   "id": "fb3669f5",
   "metadata": {},
   "source": [
    "This notebook shows you how to use the aggregates TODO."
   ]
  },
  {
   "cell_type": "code",
   "execution_count": 1,
   "id": "24604f02",
   "metadata": {},
   "outputs": [
    {
     "data": {
      "text/plain": [
       "array([[131677, 158194, 156318, ..., 151591, 102225, 153686],\n",
       "       [160559, 132965, 157784, ..., 161780, 171742, 137722],\n",
       "       [152530, 137746, 188684, ..., 140590, 122279, 162152],\n",
       "       ...,\n",
       "       [181528, 160719, 191742, ..., 163754, 174626, 104776],\n",
       "       [171136, 119421, 129563, ..., 152910, 123980, 112151],\n",
       "       [154312, 179176, 163384, ..., 178613, 173692, 158891]])"
      ]
     },
     "execution_count": 1,
     "metadata": {},
     "output_type": "execute_result"
    }
   ],
   "source": [
    "from helpers import arr_from_aggregates\n",
    "\n",
    "aggregates_path: str = \"~/local/beta-ensembles/prepackaged/aggregates/aggregates.jsonl\"\n",
    "xx: str = \"FL\"\n",
    "chamber: str = \"congress\"\n",
    "ensemble: str = \"A0\"\n",
    "aggregate: str = \"dem_by_district\"\n",
    "\n",
    "#\n",
    "\n",
    "arr = arr_from_aggregates(xx, chamber, ensemble, aggregate, file_path=aggregates_path)\n",
    "arr"
   ]
  }
 ],
 "metadata": {
  "kernelspec": {
   "display_name": "rdametrics",
   "language": "python",
   "name": "python3"
  },
  "language_info": {
   "codemirror_mode": {
    "name": "ipython",
    "version": 3
   },
   "file_extension": ".py",
   "mimetype": "text/x-python",
   "name": "python",
   "nbconvert_exporter": "python",
   "pygments_lexer": "ipython3",
   "version": "3.13.1"
  }
 },
 "nbformat": 4,
 "nbformat_minor": 5
}
