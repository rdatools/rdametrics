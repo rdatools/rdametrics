{
 "cells": [
  {
   "cell_type": "markdown",
   "id": "fb3669f5",
   "metadata": {},
   "source": [
    "This notebook shows you how to use the aggregates TODO."
   ]
  },
  {
   "cell_type": "code",
   "execution_count": null,
   "id": "24604f02",
   "metadata": {},
   "outputs": [],
   "source": []
  }
 ],
 "metadata": {
  "kernelspec": {
   "display_name": "rdametrics",
   "language": "python",
   "name": "python3"
  },
  "language_info": {
   "codemirror_mode": {
    "name": "ipython",
    "version": 3
   },
   "file_extension": ".py",
   "mimetype": "text/x-python",
   "name": "python",
   "nbconvert_exporter": "python",
   "pygments_lexer": "ipython3",
   "version": "3.13.1"
  }
 },
 "nbformat": 4,
 "nbformat_minor": 5
}
