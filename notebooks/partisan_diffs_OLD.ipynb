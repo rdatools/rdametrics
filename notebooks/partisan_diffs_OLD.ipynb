{
 "cells": [
  {
   "cell_type": "markdown",
   "id": "5e89d6dc",
   "metadata": {},
   "source": [
    "The purpose of this notebook is to identify the frequency of conflicts between metrics that purport to measure the degree to which a plan favors one party or another."
   ]
  },
  {
   "cell_type": "code",
   "execution_count": null,
   "id": "f3e85013",
   "metadata": {},
   "outputs": [],
   "source": [
    "from typing import List, Dict, Any, Set\n",
    "\n",
    "import os\n",
    "import pandas as pd\n",
    "from collections import defaultdict\n",
    "\n",
    "from rdametrics import states, chambers, ensembles"
   ]
  },
  {
   "cell_type": "markdown",
   "id": "f8d44017",
   "metadata": {},
   "source": [
    "Load the scores dataframe"
   ]
  },
  {
   "cell_type": "code",
   "execution_count": null,
   "id": "1914913e",
   "metadata": {},
   "outputs": [],
   "source": [
    "scores_path: str = \"~/local/beta-ensembles/prepackaged/scores/scores.parquet\"\n",
    "scores_df = pd.read_parquet(os.path.expanduser(scores_path))"
   ]
  },
  {
   "cell_type": "markdown",
   "id": "58765517",
   "metadata": {},
   "source": [
    "Helper code"
   ]
  },
  {
   "cell_type": "code",
   "execution_count": null,
   "id": "fae95b01",
   "metadata": {},
   "outputs": [],
   "source": [
    "# from typing import Union\n",
    "import pandas as pd\n",
    "# import numpy as np\n",
    "\n",
    "ensembles = [e for e in ensembles if e not in [\"A1\", \"A2\", \"A3\", \"A4\", \"Rev*\"]]\n",
    "\n",
    "partisan_bias = {\n",
    "    \"partisan_advantage\": [\"disproportionality\", \"efficiency_gap\"],\n",
    "    \"symmetry\": [\"geometric_seats_bias\", \"seats_bias\", \"votes_bias\"],\n",
    "    \"packing_cracking\": [\"mean_median_average_district\", \"lopsided_outcomes\", \"declination\"],\n",
    "}\n",
    "\n",
    "categories: List[str] = list(partisan_bias.keys())\n",
    "\n",
    "def same_sign(a: float | int | None, b: float | int | None) -> bool:\n",
    "    if a == 0.0 or b == 0.0:\n",
    "        return True\n",
    "    \n",
    "    if pd.isna(a) or pd.isna(b):\n",
    "        return True\n",
    "\n",
    "    return a * b > 0\n",
    "\n",
    "# def same_sign(a, b):\n",
    "#     if a == 0.0 or b == 0.0:\n",
    "#         return True\n",
    "    \n",
    "#     if pd.isna(a) or pd.isna(b):\n",
    "#         return True\n",
    "\n",
    "#     return a * b > 0\n",
    "\n",
    "# def same_signs(list1, list2):\n",
    "#     # Combine both lists and filter out zero values and NaN values\n",
    "#     all_values = list1 + list2\n",
    "#     non_zero_defined_values = [x for x in all_values if x != 0 and not pd.isna(x)]\n",
    "    \n",
    "#     # If no valid values or only one valid value, return True\n",
    "#     if len(non_zero_defined_values) <= 1:\n",
    "#         return True\n",
    "    \n",
    "#     # Check if all valid values have the same sign\n",
    "#     all_positive = all(x > 0 for x in non_zero_defined_values)\n",
    "#     all_negative = all(x < 0 for x in non_zero_defined_values)\n",
    "    \n",
    "#     return all_positive or all_negative\n",
    "\n"
   ]
  },
  {
   "cell_type": "markdown",
   "id": "4ae40eb6",
   "metadata": {},
   "source": [
    "Setup counters for various kinds of conflicts."
   ]
  },
  {
   "cell_type": "code",
   "execution_count": null,
   "id": "fbc1273c",
   "metadata": {},
   "outputs": [],
   "source": [
    "from itertools import combinations\n",
    "import copy\n",
    "\n",
    "by_state: Dict[str, Any] = dict()\n",
    "\n",
    "for xx in states:\n",
    "    by_state[xx] = {\n",
    "        \"Vf\": None,\n",
    "        \"total\": 0\n",
    "    }\n",
    "\n",
    "conflicts = dict()\n",
    "ledger = {\n",
    "    \"count\": 0,\n",
    "    \"combos\": set(),\n",
    "    \"example\": None,\n",
    "    \"value1\": None,\n",
    "    \"value2\": None,\n",
    "}\n",
    "\n",
    "for c in categories:\n",
    "    conflicts[c] = dict()\n",
    "    pairs = combinations(partisan_bias[c], 2)\n",
    "    for p in pairs:\n",
    "        conflicts[c][p] = copy.deepcopy(ledger)\n",
    "conflicts[\"cross_category\"] = dict()\n",
    "pairs = combinations(categories, 2)\n",
    "for p in pairs:\n",
    "    conflicts[\"cross_category\"][p] = copy.deepcopy(ledger)\n",
    "\n",
    "conflicts"
   ]
  },
  {
   "cell_type": "markdown",
   "id": "4c0d2a2f",
   "metadata": {},
   "source": [
    "Count instances where the scores conflict. Keep track by state / chamber / ensemble combination."
   ]
  },
  {
   "cell_type": "code",
   "execution_count": null,
   "id": "34313206",
   "metadata": {},
   "outputs": [],
   "source": [
    "for index, row in scores_df.iterrows():\n",
    "    if row[\"ensemble\"] not in ensembles:\n",
    "        continue\n",
    "\n",
    "    xx, chamber, ensemble = (row[\"state\"], row[\"chamber\"], row[\"ensemble\"])\n",
    "    combo = (xx, chamber, ensemble)\n",
    "\n",
    "    by_state[xx][\"total\"] += 1\n",
    "    if by_state[xx][\"Vf\"] is None:\n",
    "        by_state[xx][\"Vf\"] = row[\"estimated_vote_pct\"]\n",
    "\n",
    "    partisan_advantage_consistent: bool = True\n",
    "    packing_cracking_consistent: bool = True\n",
    "    partisan_symmetry_consistent: bool = True\n",
    "\n",
    "    # Check consistency within each category\n",
    "\n",
    "    for c in categories:\n",
    "        for pair, ledger in conflicts[c].items():\n",
    "            m1, m2 = pair\n",
    "            v1 = float(row[m1]) if pd.notna(row[m1]) else None\n",
    "            v2 = float(row[m2]) if pd.notna(row[m2]) else None\n",
    "            if not same_sign(v1, v2):\n",
    "                ledger[\"count\"] += 1\n",
    "                ledger[\"combos\"].add(combo)\n",
    "                if ledger[\"example\"] is None:\n",
    "                    ledger[\"example\"] = combo\n",
    "                    ledger[\"value1\"] = v1\n",
    "                    ledger[\"value2\"] = v2\n",
    "\n",
    "    # Compare consistency across categories"
   ]
  },
  {
   "cell_type": "markdown",
   "id": "8919e513",
   "metadata": {},
   "source": [
    "Aggregate the results by state"
   ]
  },
  {
   "cell_type": "code",
   "execution_count": null,
   "id": "99ae9923",
   "metadata": {},
   "outputs": [],
   "source": [
    "conflicts_summary: Dict[str, Any] = dict()\n",
    "\n",
    "for c in categories[1:]:\n",
    "    conflicts_summary[c] = dict()\n",
    "    for sc in subcategories[c]:\n",
    "        conflicts_summary[c][sc] = dict()\n",
    "        for xx in states:\n",
    "            conflicts_summary[c][sc][xx] = {\n",
    "                \"count\": 0,\n",
    "                \"conflict-rate\": None,\n",
    "                \"example\": None,\n",
    "            }\n",
    "\n",
    "conflicts_summary[\"with_proportionality\"] = dict()\n",
    "for sc in partisan_metrics[1:]:\n",
    "    conflicts_summary[\"with_proportionality\"][sc] = dict()\n",
    "    for xx in states:\n",
    "        conflicts_summary[\"with_proportionality\"][sc][xx] = {\n",
    "            \"count\": 0,\n",
    "            \"conflict-rate\": None,\n",
    "            \"example\": None,\n",
    "            \"value\": None,\n",
    "            \"disproportionality\": None,\n",
    "            \"delta\": None,\n",
    "        }\n",
    "\n",
    "for sc in partisan_metrics[1:]:\n",
    "    for combo, _data in conflicts[\"with_proportionality\"][sc].items():\n",
    "        xx, chamber, ensemble = combo\n",
    "        conflicts_summary[\"with_proportionality\"][sc][xx][\"count\"] += _data[\"count\"]\n",
    "        if conflicts_summary[\"with_proportionality\"][sc][xx][\"example\"] is None or (_data[\"delta\"] is not None and (_data[\"delta\"] > conflicts_summary[\"with_proportionality\"][sc][xx][\"delta\"])):\n",
    "            conflicts_summary[\"with_proportionality\"][sc][xx][\"example\"] = _data[\"example\"]\n",
    "            conflicts_summary[\"with_proportionality\"][sc][xx][\"value\"] = _data[\"value\"]\n",
    "            conflicts_summary[\"with_proportionality\"][sc][xx][\"disproportionality\"] = _data[\"disproportionality\"]\n",
    "            conflicts_summary[\"with_proportionality\"][sc][xx][\"delta\"] = _data[\"delta\"]\n",
    "\n",
    "for sc in partisan_metrics[1:]:\n",
    "    for xx in states:\n",
    "        conflicts_summary[\"with_proportionality\"][sc][xx][\"conflict-rate\"] = conflicts_summary[\"with_proportionality\"][sc][xx][\"count\"] / by_state[xx][\"total\"]\n",
    "\n",
    "for c in categories[1:]:\n",
    "    for sc in subcategories[c]:\n",
    "        for combo, _data in conflicts[c][sc].items():\n",
    "            xx, chamber, ensemble = combo\n",
    "            conflicts_summary[c][sc][xx][\"count\"] += _data[\"count\"]\n",
    "            if conflicts_summary[c][sc][xx][\"example\"] is None:\n",
    "                conflicts_summary[c][sc][xx][\"example\"] = _data[\"example\"]\n",
    "\n",
    "for c in categories[1:]:\n",
    "    for sc in subcategories[c]:\n",
    "        for xx in states:\n",
    "            conflicts_summary[c][sc][xx][\"conflict-rate\"] = conflicts_summary[c][sc][xx][\"count\"] / by_state[xx][\"total\"]\n"
   ]
  },
  {
   "cell_type": "code",
   "execution_count": null,
   "id": "7b960e02",
   "metadata": {},
   "outputs": [],
   "source": [
    "conflicts_summary"
   ]
  },
  {
   "cell_type": "markdown",
   "id": "3c9be5fd",
   "metadata": {},
   "source": [
    "Format for reporting & plotting"
   ]
  },
  {
   "cell_type": "code",
   "execution_count": null,
   "id": "459670d1",
   "metadata": {},
   "outputs": [],
   "source": [
    "report: Dict[str, Dict[Any, Any]] = dict()\n",
    "\n",
    "def partisan_balance(Vf: float) -> float:\n",
    "    balance: float = Vf - 0.5\n",
    "    if Vf < 0.5:\n",
    "        balance = -balance\n",
    "    return balance\n",
    "\n",
    "for sc, _data in conflicts_summary[\"with_proportionality\"].items():\n",
    "    report[sc] = dict()\n",
    "\n",
    "    first_xx: str = list(_data.keys())[0]\n",
    "    report[sc][\"total\"] = by_state[first_xx][\"total\"]\n",
    "\n",
    "    conflicts_by_state = [(xx, partisan_balance(by_state[xx]['Vf']), _info['conflict-rate']) for xx, _info in _data.items()]\n",
    "    conflicts_by_state.sort(key=lambda x: x[1])\n",
    "\n",
    "    max_xx = max(_data.items(), key=lambda x: x[1]['delta'])[0]\n",
    "\n",
    "    report[sc][\"example\"] = _data[max_xx][\"example\"]\n",
    "    report[sc][\"value\"] = _data[max_xx][\"value\"]\n",
    "    report[sc][\"disproportionality\"] = _data[max_xx][\"disproportionality\"]\n",
    "    report[sc][\"delta\"] = _data[max_xx][\"delta\"]\n",
    "\n",
    "    report[sc]['by-state'] = conflicts_by_state\n",
    "\n",
    "report\n"
   ]
  },
  {
   "cell_type": "markdown",
   "id": "73103f75",
   "metadata": {},
   "source": [
    "Find conflict coverage"
   ]
  },
  {
   "cell_type": "code",
   "execution_count": null,
   "id": "7badea27",
   "metadata": {},
   "outputs": [],
   "source": [
    "coverage = dict()\n",
    "total_sum = sum(by_state[xx][\"total\"] for xx in states)\n",
    "\n",
    "for sc in partisan_metrics[1:]:\n",
    "    coverage[sc] = {\n",
    "        \"count\": 0,\n",
    "        \"total\": 0,\n",
    "        \"combos\": 0\n",
    "    }\n",
    "\n",
    "    for combo, _data in conflicts[\"with_proportionality\"][sc].items():\n",
    "        xx, chamber, ensemble = combo\n",
    "        coverage[sc][\"total\"] = total_sum\n",
    "        # coverage[sc][\"total\"] = by_state[xx][\"total\"]\n",
    "        coverage[sc][\"count\"] += _data[\"count\"]\n",
    "        if _data[\"count\"] > 0:\n",
    "            coverage[sc][\"combos\"] += 1\n",
    "\n",
    "coverage"
   ]
  },
  {
   "cell_type": "markdown",
   "id": "9cd80a01",
   "metadata": {},
   "source": [
    "Report the percentage of conflicts by metric and state."
   ]
  },
  {
   "cell_type": "code",
   "execution_count": null,
   "id": "72db63f4",
   "metadata": {},
   "outputs": [],
   "source": [
    "print(\"Conflicts With Proportionality\")\n",
    "print(\"==============================\")\n",
    "print()\n",
    "\n",
    "precision: int = 4\n",
    "for sc, _data in report.items():\n",
    "    name: str = _data[\"example\"]\n",
    "    sample: float = _data[\"value\"]\n",
    "    disp: float = _data[\"disproportionality\"]\n",
    "\n",
    "    by_metric_conflicts: int = coverage[sc][\"count\"]\n",
    "    total_plans: int = coverage[sc][\"total\"]\n",
    "    combos: int = coverage[sc][\"combos\"]\n",
    "\n",
    "    by_state_output = [(state, f\"{round(val1, precision):.2%}\", f\"{round(val2, precision):.2%}\") for state, val1, val2 in _data['by-state']]\n",
    "\n",
    "\n",
    "    print(f\"{sc}:\")\n",
    "    print(\n",
    "        f\"  {by_metric_conflicts:,} of {total_plans:,} plans conflict ({by_metric_conflicts / total_plans:.1%} across {combos} of 231 = 7 x 3 x 11 state, chamber, and ensemble combinations.\"\n",
    "    )\n",
    "    if sc != 'declination':\n",
    "        print(f\"  Example: Map ({name}) has {sample:.2%} vs. disproportionality {disp:.2%}.\")\n",
    "    else:\n",
    "        print(f\"  Example: Map ({name}) has {sample:.4f} degrees vs. disproportionality {disp:.2%}.\")\n",
    "    print(\"  State, Deviation from 50-50 Balance, Conflict Rate\")\n",
    "    print(f\"  {by_state_output}\")\n",
    "    print()\n",
    "\n",
    "print()\n",
    "print(\n",
    "    f\"Where a 'conflict' is when the sign of the metric is the *opposite* of the sign for simple 'disproportionality'.\"\n",
    ")"
   ]
  },
  {
   "cell_type": "markdown",
   "id": "46cdbe6a",
   "metadata": {},
   "source": [
    "Report conflicts by metric and state sorted by partisan balance"
   ]
  },
  {
   "cell_type": "code",
   "execution_count": null,
   "id": "6c3cdc82",
   "metadata": {},
   "outputs": [],
   "source": [
    "precision: int = 4\n",
    "for sc, _data in report.items():\n",
    "    x = [(state, round(val1, precision), round(val2, precision)) for state, val1, val2 in _data['by-state']]\n",
    "\n",
    "    formatted_items = [f\"({state}, {float(val1):>6.2%}, {float(val2):>7.2%})\" for state, val1, val2 in x]\n",
    "    print(f\"{sc:>30}: {', '.join(formatted_items)}\")\n",
    "\n"
   ]
  },
  {
   "cell_type": "markdown",
   "id": "24b3aa8e",
   "metadata": {},
   "source": [
    "Report other conflicts"
   ]
  },
  {
   "cell_type": "code",
   "execution_count": null,
   "id": "5c1bad39",
   "metadata": {},
   "outputs": [],
   "source": [
    "report2: Dict[str, Dict[Any, Any]] = dict()\n",
    "\n",
    "for c in categories[1:]:\n",
    "    report2[c] = dict()\n",
    "    for sc, _data in conflicts_summary[c].items():\n",
    "        report2[c][sc] = dict()\n",
    "\n",
    "        first_xx: str = list(_data.keys())[0]\n",
    "        report2[c][sc][\"total\"] = by_state[first_xx][\"total\"]\n",
    "\n",
    "        conflicts_by_state = [(xx, partisan_balance(by_state[xx]['Vf']), _info['conflict-rate']) for xx, _info in _data.items()]\n",
    "        conflicts_by_state.sort(key=lambda x: x[1])\n",
    "\n",
    "        report2[c][sc][\"example\"] = _data[max_xx][\"example\"]\n",
    "        report2[c][sc]['by-state'] = conflicts_by_state"
   ]
  },
  {
   "cell_type": "code",
   "execution_count": null,
   "id": "bc01de89",
   "metadata": {},
   "outputs": [],
   "source": [
    "titles: Dict[str, str] = {\n",
    "    \"with_proportionality\": \"N/A\", \n",
    "    \"within_symmetry\": \"Conflicts Within Symmetry\",\n",
    "    \"within_packing_cracking\": \"Conflicts Within Packing & Cracking\",\n",
    "    \"between_symmetry_and_packing_cracking\": \"Conflicts Between Symmetry & Packing & Cracking\"\n",
    "}\n",
    "\n",
    "for c in categories[1:]:\n",
    "    print(titles[c])\n",
    "    print(\"=\" * len(titles[c]))\n",
    "\n",
    "    for sc, _data in report2[c].items():\n",
    "        by_state_output = [(state, f\"{round(val1, precision):.2%}\", f\"{round(val2, precision):.2%}\") for state, val1, val2 in _data['by-state']]\n",
    "\n",
    "        print(f\"Subcategory: {sc}\")\n",
    "        print(f\"Example: {_data['example']}\")\n",
    "        # print(f\"Total: {_data['total']}\")\n",
    "        print(\"State, Deviation from 50-50 Balance, Conflict Rate\")\n",
    "        print(f\"{by_state_output}\")\n",
    "        print()\n",
    "\n",
    "    print()\n"
   ]
  }
 ],
 "metadata": {
  "kernelspec": {
   "display_name": "rdametrics",
   "language": "python",
   "name": "python3"
  },
  "language_info": {
   "codemirror_mode": {
    "name": "ipython",
    "version": 3
   },
   "file_extension": ".py",
   "mimetype": "text/x-python",
   "name": "python",
   "nbconvert_exporter": "python",
   "pygments_lexer": "ipython3",
   "version": "3.13.1"
  }
 },
 "nbformat": 4,
 "nbformat_minor": 5
}
