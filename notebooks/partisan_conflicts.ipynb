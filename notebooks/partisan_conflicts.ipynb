{
 "cells": [
  {
   "cell_type": "markdown",
   "id": "5e89d6dc",
   "metadata": {},
   "source": [
    "The purpose of this notebook is to identify the frequency of conflicts between metrics that purport to measure the degree to which a plan favors one party or another."
   ]
  },
  {
   "cell_type": "code",
   "execution_count": 1,
   "id": "f3e85013",
   "metadata": {},
   "outputs": [],
   "source": [
    "from typing import List, Dict, Any, Set\n",
    "\n",
    "import os\n",
    "import pandas as pd\n",
    "from collections import defaultdict\n",
    "\n",
    "from rdapy import DISTRICTS_BY_STATE\n",
    "from rdametrics import states, chambers, ensembles"
   ]
  },
  {
   "cell_type": "markdown",
   "id": "f8d44017",
   "metadata": {},
   "source": [
    "Load the scores dataframe"
   ]
  },
  {
   "cell_type": "code",
   "execution_count": 2,
   "id": "1914913e",
   "metadata": {},
   "outputs": [],
   "source": [
    "scores_path: str = \"~/local/beta-ensembles/dataframe/contents/scores_df.parquet\"\n",
    "scores_df = pd.read_parquet(os.path.expanduser(scores_path))"
   ]
  },
  {
   "cell_type": "markdown",
   "id": "58765517",
   "metadata": {},
   "source": [
    "Helper code"
   ]
  },
  {
   "cell_type": "code",
   "execution_count": 3,
   "id": "fae95b01",
   "metadata": {},
   "outputs": [],
   "source": [
    "ensembles = [e for e in ensembles if e not in [\"A1\", \"A2\", \"A3\", \"A4\", \"Rev*\"]]\n",
    "\n",
    "partisan_metrics: List[str] = [\n",
    "    \"disproportionality\",\n",
    "    \"efficiency_gap\",\n",
    "    \"seats_bias\",\n",
    "    \"votes_bias\",\n",
    "    \"geometric_seats_bias\",\n",
    "    \"declination\",\n",
    "    \"mean_median_statewide\",\n",
    "    \"lopsided_outcomes\",\n",
    "]\n",
    "\n",
    "\n",
    "def same_sign(a, b):\n",
    "    if a == 0.0 or b == 0.0:\n",
    "        return True\n",
    "\n",
    "    return a * b > 0"
   ]
  },
  {
   "cell_type": "markdown",
   "id": "4ae40eb6",
   "metadata": {},
   "source": [
    "Count instances where the scores conflict"
   ]
  },
  {
   "cell_type": "code",
   "execution_count": 4,
   "id": "a1b8176a",
   "metadata": {},
   "outputs": [],
   "source": [
    "counters: Dict[str, Dict[str, Any]] = dict()\n",
    "for m in partisan_metrics[1:]:\n",
    "    counters[m] = {\n",
    "        \"combinations\": set(),\n",
    "        \"conflicts\": 0,\n",
    "        \"example\": None,\n",
    "        \"value\": None,\n",
    "        \"disproportionality\": None,\n",
    "        \"delta\": None,\n",
    "    }\n",
    "\n",
    "total_plans: int = len(scores_df)\n",
    "for index, row in scores_df.iterrows():\n",
    "    xx: str = row[\"state\"]\n",
    "    chamber: str = row[\"chamber\"]\n",
    "    ensemble: str = row[\"ensemble\"]\n",
    "\n",
    "    if ensemble not in ensembles:\n",
    "        continue\n",
    "\n",
    "    for m in partisan_metrics[1:]:\n",
    "        if same_sign(row[m], row[\"disproportionality\"]):\n",
    "            continue\n",
    "        else:\n",
    "            counters[m][\"combinations\"].add((xx, chamber, ensemble))\n",
    "            counters[m][\"conflicts\"] += 1\n",
    "\n",
    "            delta: float = abs(row[m] - row[\"disproportionality\"])\n",
    "\n",
    "            if counters[m][\"example\"] is None or delta > counters[m][\"delta\"]:\n",
    "                counters[m][\"example\"] = row[\"map\"]\n",
    "                counters[m][\"value\"] = row[m]\n",
    "                counters[m][\"disproportionality\"] = row[\"disproportionality\"]\n",
    "                counters[m][\"delta\"] = delta"
   ]
  },
  {
   "cell_type": "markdown",
   "id": "8919e513",
   "metadata": {},
   "source": [
    "Report the results"
   ]
  },
  {
   "cell_type": "code",
   "execution_count": 5,
   "id": "72db63f4",
   "metadata": {},
   "outputs": [
    {
     "name": "stdout",
     "output_type": "stream",
     "text": [
      "Partisan Conflicts Summary:\n",
      "- efficiency_gap: 680,747 of 6,719,956 conflicts (10.1%)\n",
      "  across 165 of 231 = 7 x 3 x 11 state, chamber, and ensemble combinations.\n",
      "  Example: Map 7460000 has 0.0050 vs. disproportionality -0.1428.\n",
      "\n",
      "- seats_bias: 1,510,956 of 6,719,956 conflicts (22.5%)\n",
      "  across 176 of 231 = 7 x 3 x 11 state, chamber, and ensemble combinations.\n",
      "  Example: Map 29372500 has 0.0930 vs. disproportionality -0.2419.\n",
      "\n",
      "- votes_bias: 1,509,410 of 6,719,956 conflicts (22.5%)\n",
      "  across 176 of 231 = 7 x 3 x 11 state, chamber, and ensemble combinations.\n",
      "  Example: Map 40532500 has 0.0389 vs. disproportionality -0.2511.\n",
      "\n",
      "- geometric_seats_bias: 1,545,812 of 6,719,956 conflicts (23.0%)\n",
      "  across 176 of 231 = 7 x 3 x 11 state, chamber, and ensemble combinations.\n",
      "  Example: Map 31252500 has 0.0109 vs. disproportionality -0.2466.\n",
      "\n",
      "- declination: 1,385,292 of 6,719,956 conflicts (20.6%)\n",
      "  across 165 of 231 = 7 x 3 x 11 state, chamber, and ensemble combinations.\n",
      "  Example: Map 48322500 has 25.9466 vs. disproportionality -0.1870.\n",
      "\n",
      "- mean_median_statewide: 1,622,336 of 6,719,956 conflicts (24.1%)\n",
      "  across 199 of 231 = 7 x 3 x 11 state, chamber, and ensemble combinations.\n",
      "  Example: Map 22570000 has 0.0806 vs. disproportionality -0.2439.\n",
      "\n",
      "- lopsided_outcomes: 2,042,083 of 6,719,956 conflicts (30.4%)\n",
      "  across 189 of 231 = 7 x 3 x 11 state, chamber, and ensemble combinations.\n",
      "  Example: Map 28310000 has 0.1889 vs. disproportionality -0.2475.\n",
      "\n",
      "\n",
      "Where a 'conflict' is when the sign of the metric is the *opposite* of the sign for simple 'disproportionality'.\n"
     ]
    }
   ],
   "source": [
    "print(\"Partisan Conflicts Summary:\")\n",
    "for m in partisan_metrics[1:]:\n",
    "    conflicts: int = counters[m][\"conflicts\"]\n",
    "    combos: int = len(counters[m][\"combinations\"])\n",
    "    name: str = counters[m][\"example\"]\n",
    "    sample: float = counters[m][\"value\"]\n",
    "    disp: float = counters[m][\"disproportionality\"]\n",
    "    print(\n",
    "        f\"- {m}: {conflicts:,} of {total_plans:,} conflicts ({conflicts / total_plans:.1%})\"\n",
    "    )\n",
    "    print(\n",
    "        f\"  across {combos} of 231 = 7 x 3 x 11 state, chamber, and ensemble combinations.\"\n",
    "    )\n",
    "    print(f\"  Example: Map {name} has {sample:.4f} vs. disproportionality {disp:.4f}.\")\n",
    "    print()\n",
    "print()\n",
    "print(\n",
    "    f\"Where a 'conflict' is when the sign of the metric is the *opposite* of the sign for simple 'disproportionality'.\"\n",
    ")"
   ]
  },
  {
   "cell_type": "code",
   "execution_count": null,
   "id": "8e08a4fa",
   "metadata": {},
   "outputs": [],
   "source": []
  }
 ],
 "metadata": {
  "kernelspec": {
   "display_name": "rdametrics",
   "language": "python",
   "name": "python3"
  },
  "language_info": {
   "codemirror_mode": {
    "name": "ipython",
    "version": 3
   },
   "file_extension": ".py",
   "mimetype": "text/x-python",
   "name": "python",
   "nbconvert_exporter": "python",
   "pygments_lexer": "ipython3",
   "version": "3.13.1"
  }
 },
 "nbformat": 4,
 "nbformat_minor": 5
}
