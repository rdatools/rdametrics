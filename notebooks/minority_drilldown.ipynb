{
 "cells": [
  {
   "cell_type": "markdown",
   "id": "a61196bf",
   "metadata": {},
   "source": [
    "Do the MMD components *combined* correlate to the DRA `minority` rating (and vice versa)?"
   ]
  },
  {
   "cell_type": "code",
   "execution_count": 1,
   "id": "24604f02",
   "metadata": {},
   "outputs": [],
   "source": [
    "import os\n",
    "import pandas as pd\n",
    "\n",
    "from rdametrics import *"
   ]
  },
  {
   "cell_type": "markdown",
   "id": "2027adcb",
   "metadata": {},
   "source": [
    "Load the all-up scores dataframe from disk"
   ]
  },
  {
   "cell_type": "code",
   "execution_count": 2,
   "id": "cc662508",
   "metadata": {},
   "outputs": [
    {
     "data": {
      "text/html": [
       "<div>\n",
       "<style scoped>\n",
       "    .dataframe tbody tr th:only-of-type {\n",
       "        vertical-align: middle;\n",
       "    }\n",
       "\n",
       "    .dataframe tbody tr th {\n",
       "        vertical-align: top;\n",
       "    }\n",
       "\n",
       "    .dataframe thead th {\n",
       "        text-align: right;\n",
       "    }\n",
       "</style>\n",
       "<table border=\"1\" class=\"dataframe\">\n",
       "  <thead>\n",
       "    <tr style=\"text-align: right;\">\n",
       "      <th></th>\n",
       "      <th>map</th>\n",
       "      <th>estimated_vote_pct</th>\n",
       "      <th>pr_deviation</th>\n",
       "      <th>estimated_seats</th>\n",
       "      <th>fptp_seats</th>\n",
       "      <th>disproportionality</th>\n",
       "      <th>efficiency_gap_wasted_votes</th>\n",
       "      <th>efficiency_gap_statewide</th>\n",
       "      <th>efficiency_gap</th>\n",
       "      <th>seats_bias</th>\n",
       "      <th>...</th>\n",
       "      <th>proportional_coalitions</th>\n",
       "      <th>minority</th>\n",
       "      <th>county_splitting</th>\n",
       "      <th>district_splitting</th>\n",
       "      <th>counties_split</th>\n",
       "      <th>county_splits</th>\n",
       "      <th>splitting</th>\n",
       "      <th>state</th>\n",
       "      <th>chamber</th>\n",
       "      <th>ensemble</th>\n",
       "    </tr>\n",
       "  </thead>\n",
       "  <tbody>\n",
       "    <tr>\n",
       "      <th>0</th>\n",
       "      <td>2500</td>\n",
       "      <td>0.4837</td>\n",
       "      <td>0.0762</td>\n",
       "      <td>11.8678</td>\n",
       "      <td>11</td>\n",
       "      <td>0.0598</td>\n",
       "      <td>0.1075</td>\n",
       "      <td>0.0744</td>\n",
       "      <td>0.0435</td>\n",
       "      <td>0.0299</td>\n",
       "      <td>...</td>\n",
       "      <td>13</td>\n",
       "      <td>68</td>\n",
       "      <td>1.5858</td>\n",
       "      <td>1.5834</td>\n",
       "      <td>35</td>\n",
       "      <td>64</td>\n",
       "      <td>2</td>\n",
       "      <td>FL</td>\n",
       "      <td>congress</td>\n",
       "      <td>A0</td>\n",
       "    </tr>\n",
       "    <tr>\n",
       "      <th>1</th>\n",
       "      <td>5000</td>\n",
       "      <td>0.4837</td>\n",
       "      <td>0.0827</td>\n",
       "      <td>11.6842</td>\n",
       "      <td>11</td>\n",
       "      <td>0.0664</td>\n",
       "      <td>0.0973</td>\n",
       "      <td>0.0744</td>\n",
       "      <td>0.0500</td>\n",
       "      <td>0.0415</td>\n",
       "      <td>...</td>\n",
       "      <td>13</td>\n",
       "      <td>75</td>\n",
       "      <td>1.6487</td>\n",
       "      <td>1.6488</td>\n",
       "      <td>38</td>\n",
       "      <td>71</td>\n",
       "      <td>0</td>\n",
       "      <td>FL</td>\n",
       "      <td>congress</td>\n",
       "      <td>A0</td>\n",
       "    </tr>\n",
       "    <tr>\n",
       "      <th>2</th>\n",
       "      <td>7500</td>\n",
       "      <td>0.4837</td>\n",
       "      <td>0.0646</td>\n",
       "      <td>12.1917</td>\n",
       "      <td>12</td>\n",
       "      <td>0.0482</td>\n",
       "      <td>0.0673</td>\n",
       "      <td>0.0387</td>\n",
       "      <td>0.0319</td>\n",
       "      <td>0.0232</td>\n",
       "      <td>...</td>\n",
       "      <td>13</td>\n",
       "      <td>70</td>\n",
       "      <td>1.6020</td>\n",
       "      <td>1.6233</td>\n",
       "      <td>39</td>\n",
       "      <td>70</td>\n",
       "      <td>0</td>\n",
       "      <td>FL</td>\n",
       "      <td>congress</td>\n",
       "      <td>A0</td>\n",
       "    </tr>\n",
       "    <tr>\n",
       "      <th>3</th>\n",
       "      <td>10000</td>\n",
       "      <td>0.4837</td>\n",
       "      <td>0.0647</td>\n",
       "      <td>12.1873</td>\n",
       "      <td>12</td>\n",
       "      <td>0.0484</td>\n",
       "      <td>0.0745</td>\n",
       "      <td>0.0387</td>\n",
       "      <td>0.0320</td>\n",
       "      <td>0.0271</td>\n",
       "      <td>...</td>\n",
       "      <td>13</td>\n",
       "      <td>71</td>\n",
       "      <td>1.6085</td>\n",
       "      <td>1.5958</td>\n",
       "      <td>33</td>\n",
       "      <td>67</td>\n",
       "      <td>0</td>\n",
       "      <td>FL</td>\n",
       "      <td>congress</td>\n",
       "      <td>A0</td>\n",
       "    </tr>\n",
       "    <tr>\n",
       "      <th>4</th>\n",
       "      <td>12500</td>\n",
       "      <td>0.4837</td>\n",
       "      <td>0.0408</td>\n",
       "      <td>12.8575</td>\n",
       "      <td>13</td>\n",
       "      <td>0.0245</td>\n",
       "      <td>0.0399</td>\n",
       "      <td>0.0030</td>\n",
       "      <td>0.0081</td>\n",
       "      <td>0.0042</td>\n",
       "      <td>...</td>\n",
       "      <td>13</td>\n",
       "      <td>74</td>\n",
       "      <td>1.5676</td>\n",
       "      <td>1.5361</td>\n",
       "      <td>34</td>\n",
       "      <td>60</td>\n",
       "      <td>8</td>\n",
       "      <td>FL</td>\n",
       "      <td>congress</td>\n",
       "      <td>A0</td>\n",
       "    </tr>\n",
       "  </tbody>\n",
       "</table>\n",
       "<p>5 rows × 51 columns</p>\n",
       "</div>"
      ],
      "text/plain": [
       "     map  estimated_vote_pct  pr_deviation  estimated_seats  fptp_seats  \\\n",
       "0   2500              0.4837        0.0762          11.8678          11   \n",
       "1   5000              0.4837        0.0827          11.6842          11   \n",
       "2   7500              0.4837        0.0646          12.1917          12   \n",
       "3  10000              0.4837        0.0647          12.1873          12   \n",
       "4  12500              0.4837        0.0408          12.8575          13   \n",
       "\n",
       "   disproportionality  efficiency_gap_wasted_votes  efficiency_gap_statewide  \\\n",
       "0              0.0598                       0.1075                    0.0744   \n",
       "1              0.0664                       0.0973                    0.0744   \n",
       "2              0.0482                       0.0673                    0.0387   \n",
       "3              0.0484                       0.0745                    0.0387   \n",
       "4              0.0245                       0.0399                    0.0030   \n",
       "\n",
       "   efficiency_gap  seats_bias  ...  proportional_coalitions  minority  \\\n",
       "0          0.0435      0.0299  ...                       13        68   \n",
       "1          0.0500      0.0415  ...                       13        75   \n",
       "2          0.0319      0.0232  ...                       13        70   \n",
       "3          0.0320      0.0271  ...                       13        71   \n",
       "4          0.0081      0.0042  ...                       13        74   \n",
       "\n",
       "   county_splitting  district_splitting  counties_split  county_splits  \\\n",
       "0            1.5858              1.5834              35             64   \n",
       "1            1.6487              1.6488              38             71   \n",
       "2            1.6020              1.6233              39             70   \n",
       "3            1.6085              1.5958              33             67   \n",
       "4            1.5676              1.5361              34             60   \n",
       "\n",
       "   splitting  state   chamber  ensemble  \n",
       "0          2     FL  congress        A0  \n",
       "1          0     FL  congress        A0  \n",
       "2          0     FL  congress        A0  \n",
       "3          0     FL  congress        A0  \n",
       "4          8     FL  congress        A0  \n",
       "\n",
       "[5 rows x 51 columns]"
      ]
     },
     "execution_count": 2,
     "metadata": {},
     "output_type": "execute_result"
    }
   ],
   "source": [
    "scores_path: str = \"~/local/beta-ensembles/dataframe/contents/scores_df.parquet\"\n",
    "scores_df = pd.read_parquet(os.path.expanduser(scores_path))\n",
    "scores_df.head()"
   ]
  },
  {
   "cell_type": "markdown",
   "id": "39ec2760",
   "metadata": {},
   "source": [
    "Define a combined MMD score."
   ]
  },
  {
   "cell_type": "code",
   "execution_count": 3,
   "id": "f4266fd1",
   "metadata": {},
   "outputs": [],
   "source": [
    "df = pd.DataFrame({\n",
    "    'state': scores_df['state'],\n",
    "    'chamber': scores_df['chamber'],\n",
    "    'ensemble': scores_df['ensemble'],\n",
    "    'minority': scores_df['minority'],\n",
    "    'mmd_combined': scores_df['mmd_black'] + scores_df['mmd_hispanic'] + scores_df['mmd_coalition']\n",
    "})"
   ]
  },
  {
   "cell_type": "markdown",
   "id": "2d9f2cb6",
   "metadata": {},
   "source": [
    "Look at the correlation of that and the `minority` rating."
   ]
  },
  {
   "cell_type": "code",
   "execution_count": 4,
   "id": "dd5f5641",
   "metadata": {},
   "outputs": [
    {
     "data": {
      "text/html": [
       "<div>\n",
       "<style scoped>\n",
       "    .dataframe tbody tr th:only-of-type {\n",
       "        vertical-align: middle;\n",
       "    }\n",
       "\n",
       "    .dataframe tbody tr th {\n",
       "        vertical-align: top;\n",
       "    }\n",
       "\n",
       "    .dataframe thead th {\n",
       "        text-align: right;\n",
       "    }\n",
       "</style>\n",
       "<table border=\"1\" class=\"dataframe\">\n",
       "  <thead>\n",
       "    <tr style=\"text-align: right;\">\n",
       "      <th></th>\n",
       "      <th>mmd_combined</th>\n",
       "      <th>minority</th>\n",
       "    </tr>\n",
       "  </thead>\n",
       "  <tbody>\n",
       "    <tr>\n",
       "      <th>mmd_combined</th>\n",
       "      <td>1.00</td>\n",
       "      <td>0.11</td>\n",
       "    </tr>\n",
       "    <tr>\n",
       "      <th>minority</th>\n",
       "      <td>0.11</td>\n",
       "      <td>1.00</td>\n",
       "    </tr>\n",
       "  </tbody>\n",
       "</table>\n",
       "</div>"
      ],
      "text/plain": [
       "              mmd_combined  minority\n",
       "mmd_combined          1.00      0.11\n",
       "minority              0.11      1.00"
      ]
     },
     "execution_count": 4,
     "metadata": {},
     "output_type": "execute_result"
    }
   ],
   "source": [
    "focus_metrics: List[str] = [\"mmd_combined\", \"minority\"]\n",
    "D = make_correlation_tables(states, chambers, df, focus_metrics)\n",
    "avg_corr = average_correlation_tables(D, focus_metrics, combos)\n",
    "avg_corr"
   ]
  },
  {
   "cell_type": "markdown",
   "id": "2a94b738",
   "metadata": {},
   "source": [
    "Plot the raw points"
   ]
  },
  {
   "cell_type": "code",
   "execution_count": 6,
   "id": "9a2a95b7",
   "metadata": {},
   "outputs": [
    {
     "data": {
      "image/png": "[encoded data removed]",
      "text/plain": [
       "<Figure size 640x480 with 1 Axes>"
      ]
     },
     "metadata": {},
     "output_type": "display_data"
    }
   ],
   "source": [
    "plot_xy(df, \"mmd_combined\", \"minority\")"
   ]
  },
  {
   "cell_type": "markdown",
   "id": "8df5eca6",
   "metadata": {},
   "source": [
    "Even combined, MMD does not correlate with the DRA `minority` rating.\n",
    "The bar is simply too high, i.e., the `minority` rating is more sensitive, registers more minority opportunity than the 50%+1 of majority-minority districts."
   ]
  }
 ],
 "metadata": {
  "kernelspec": {
   "display_name": "rdametrics",
   "language": "python",
   "name": "python3"
  },
  "language_info": {
   "codemirror_mode": {
    "name": "ipython",
    "version": 3
   },
   "file_extension": ".py",
   "mimetype": "text/x-python",
   "name": "python",
   "nbconvert_exporter": "python",
   "pygments_lexer": "ipython3",
   "version": "3.13.1"
  }
 },
 "nbformat": 4,
 "nbformat_minor": 5
}
