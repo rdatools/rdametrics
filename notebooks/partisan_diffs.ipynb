{
 "cells": [
  {
   "cell_type": "markdown",
   "id": "5e89d6dc",
   "metadata": {},
   "source": [
    "The purpose of this notebook is to identify the frequency of conflicts between metrics that purport to measure the degree to which a plan favors one party or another."
   ]
  },
  {
   "cell_type": "code",
   "execution_count": 2,
   "id": "f3e85013",
   "metadata": {},
   "outputs": [],
   "source": [
    "from typing import List, Dict, Any, Set\n",
    "\n",
    "import os\n",
    "import pandas as pd\n",
    "from collections import defaultdict\n",
    "\n",
    "from rdametrics import states, chambers, ensembles"
   ]
  },
  {
   "cell_type": "markdown",
   "id": "f8d44017",
   "metadata": {},
   "source": [
    "Load the scores dataframe"
   ]
  },
  {
   "cell_type": "code",
   "execution_count": 3,
   "id": "1914913e",
   "metadata": {},
   "outputs": [],
   "source": [
    "scores_path: str = \"~/local/beta-ensembles/prepackaged/scores/scores.parquet\"\n",
    "scores_df = pd.read_parquet(os.path.expanduser(scores_path))"
   ]
  },
  {
   "cell_type": "markdown",
   "id": "58765517",
   "metadata": {},
   "source": [
    "Helper code"
   ]
  },
  {
   "cell_type": "code",
   "execution_count": 4,
   "id": "fae95b01",
   "metadata": {},
   "outputs": [],
   "source": [
    "import pandas as pd\n",
    "\n",
    "ensembles = [e for e in ensembles if e not in [\"A1\", \"A2\", \"A3\", \"A4\", \"Rev*\"]]\n",
    "\n",
    "partisan_bias = {\n",
    "    \"partisan_advantage\": [\"disproportionality\", \"efficiency_gap\"],\n",
    "    \"partisan_symmetry\": [\"seats_bias\", \"votes_bias\", \"geometric_seats_bias\"],\n",
    "    \"packing_cracking\": [\"mean_median_average_district\", \"lopsided_outcomes\", \"declination\"],\n",
    "}\n",
    "\n",
    "categories: List[str] = list(partisan_bias.keys())\n",
    "\n",
    "def same_sign(a, b):\n",
    "    if a == 0.0 or b == 0.0:\n",
    "        return True\n",
    "    \n",
    "    if pd.isna(a) or pd.isna(b):\n",
    "        return True\n",
    "    \n",
    "    assert isinstance(a, (int, float)) and isinstance(b, (int, float)), f\"Unexpected types: {type(a)}, {type(b)}\"\n",
    "\n",
    "    return a * b > 0\n",
    "\n",
    "def same_signs(values):\n",
    "    # Filter out zero values and NaN values\n",
    "    non_zero_defined_values = [x for x in values if x != 0 and not pd.isna(x)]\n",
    "    \n",
    "    # If no valid values or only one valid value, return True\n",
    "    if len(non_zero_defined_values) <= 1:\n",
    "        return True\n",
    "    \n",
    "    # Check if all valid values have the same sign\n",
    "    all_positive = all(x > 0 for x in non_zero_defined_values)\n",
    "    all_negative = all(x < 0 for x in non_zero_defined_values)\n",
    "    \n",
    "    return all_positive or all_negative\n",
    "\n",
    "# def same_signs(list1, list2):\n",
    "#     # Combine both lists and filter out zero values and NaN values\n",
    "#     all_values = list1 + list2\n",
    "#     non_zero_defined_values = [x for x in all_values if x != 0 and not pd.isna(x)]\n",
    "    \n",
    "#     # If no valid values or only one valid value, return True\n",
    "#     if len(non_zero_defined_values) <= 1:\n",
    "#         return True\n",
    "    \n",
    "#     # Check if all valid values have the same sign\n",
    "#     all_positive = all(x > 0 for x in non_zero_defined_values)\n",
    "#     all_negative = all(x < 0 for x in non_zero_defined_values)\n",
    "    \n",
    "#     return all_positive or all_negative\n",
    "\n",
    "def partisan_balance(Vf: float) -> float:\n",
    "    balance: float = Vf - 0.5\n",
    "    if Vf < 0.5:\n",
    "        balance = -balance\n",
    "    return balance"
   ]
  },
  {
   "cell_type": "markdown",
   "id": "4ae40eb6",
   "metadata": {},
   "source": [
    "Setup counters for various kinds of conflicts."
   ]
  },
  {
   "cell_type": "code",
   "execution_count": 11,
   "id": "fbc1273c",
   "metadata": {},
   "outputs": [
    {
     "data": {
      "text/plain": [
       "{'partisan_advantage': {'counts': {'FL': 0,\n",
       "   'IL': 0,\n",
       "   'MI': 0,\n",
       "   'NC': 0,\n",
       "   'NY': 0,\n",
       "   'OH': 0,\n",
       "   'WI': 0},\n",
       "  'combos': set(),\n",
       "  'example': None,\n",
       "  'values': None,\n",
       "  'delta': None},\n",
       " 'partisan_symmetry': {'counts': {'FL': 0,\n",
       "   'IL': 0,\n",
       "   'MI': 0,\n",
       "   'NC': 0,\n",
       "   'NY': 0,\n",
       "   'OH': 0,\n",
       "   'WI': 0},\n",
       "  'combos': set(),\n",
       "  'example': None,\n",
       "  'values': None,\n",
       "  'delta': None},\n",
       " 'packing_cracking': {'counts': {'FL': 0,\n",
       "   'IL': 0,\n",
       "   'MI': 0,\n",
       "   'NC': 0,\n",
       "   'NY': 0,\n",
       "   'OH': 0,\n",
       "   'WI': 0},\n",
       "  'combos': set(),\n",
       "  'example': None,\n",
       "  'values': None,\n",
       "  'delta': None},\n",
       " ('partisan_advantage',\n",
       "  'partisan_symmetry'): {'counts': {'FL': 0,\n",
       "   'IL': 0,\n",
       "   'MI': 0,\n",
       "   'NC': 0,\n",
       "   'NY': 0,\n",
       "   'OH': 0,\n",
       "   'WI': 0}, 'combos': set(), 'example': None, 'values': None, 'delta': None},\n",
       " ('partisan_advantage',\n",
       "  'packing_cracking'): {'counts': {'FL': 0,\n",
       "   'IL': 0,\n",
       "   'MI': 0,\n",
       "   'NC': 0,\n",
       "   'NY': 0,\n",
       "   'OH': 0,\n",
       "   'WI': 0}, 'combos': set(), 'example': None, 'values': None, 'delta': None},\n",
       " ('partisan_symmetry',\n",
       "  'packing_cracking'): {'counts': {'FL': 0,\n",
       "   'IL': 0,\n",
       "   'MI': 0,\n",
       "   'NC': 0,\n",
       "   'NY': 0,\n",
       "   'OH': 0,\n",
       "   'WI': 0}, 'combos': set(), 'example': None, 'values': None, 'delta': None}}"
      ]
     },
     "execution_count": 11,
     "metadata": {},
     "output_type": "execute_result"
    }
   ],
   "source": [
    "from itertools import combinations\n",
    "import copy\n",
    "\n",
    "by_state: Dict[str, Any] = dict()\n",
    "\n",
    "for xx in states:\n",
    "    by_state[xx] = {\n",
    "        \"Vf\": None,\n",
    "        \"total\": 0\n",
    "    }\n",
    "\n",
    "conflicts = dict()\n",
    "_ledger = {\n",
    "    \"counts\": {xx: 0 for xx in states},\n",
    "    \"combos\": set(),\n",
    "    \"example\": None,\n",
    "    \"values\": None,\n",
    "    \"delta\": None,\n",
    "}\n",
    "\n",
    "cross_categories = list(combinations(categories, 2))\n",
    "for c in categories + cross_categories:\n",
    "    conflicts[c] = copy.deepcopy(_ledger)\n",
    "\n",
    "conflicts"
   ]
  },
  {
   "cell_type": "markdown",
   "id": "4c0d2a2f",
   "metadata": {},
   "source": [
    "Count instances where the scores conflict. Keep track of state / chamber / ensemble combinations."
   ]
  },
  {
   "cell_type": "code",
   "execution_count": null,
   "id": "34313206",
   "metadata": {},
   "outputs": [],
   "source": [
    "for index, row in scores_df.iterrows():\n",
    "    if row[\"ensemble\"] not in ensembles:\n",
    "        continue\n",
    "\n",
    "    xx, chamber, ensemble = (row[\"state\"], row[\"chamber\"], row[\"ensemble\"])\n",
    "    combo = (xx, chamber, ensemble)\n",
    "\n",
    "    by_state[xx][\"total\"] += 1\n",
    "    if by_state[xx][\"Vf\"] is None:\n",
    "        by_state[xx][\"Vf\"] = row[\"estimated_vote_pct\"]\n",
    "\n",
    "    consistent = {\n",
    "        \"partisan_advantage\": True,\n",
    "        \"packing_cracking\": True,\n",
    "        \"partisan_symmetry\": True\n",
    "    }\n",
    "\n",
    "    # Check consistency within each category\n",
    "\n",
    "    for c in categories:\n",
    "        values = [row[m] for m in partisan_bias[c]]\n",
    "        delta = abs(max(values) - min(values))\n",
    "        if not same_signs(values):\n",
    "            consistent[c] = False\n",
    "            conflicts[c][\"counts\"][xx] += 1\n",
    "            conflicts[c][\"combos\"].add(combo)\n",
    "            if conflicts[c][\"example\"] is None or delta > conflicts[c][\"delta\"]:\n",
    "                conflicts[c][\"example\"] = combo\n",
    "                conflicts[c][\"values\"] = values\n",
    "                conflicts[c][\"delta\"] = delta\n",
    "\n",
    "    # Compare consistency across categories\n",
    "    \n",
    "    for cat1, cat2 in cross_categories:\n",
    "        if consistent[cat1] and consistent[cat2]:\n",
    "            v1 = row[partisan_bias[cat1][0]]\n",
    "            v2 = row[partisan_bias[cat2][0]]\n",
    "            if not same_sign(v1, v2):\n",
    "                conflicts[(cat1, cat2)][\"counts\"][xx] += 1\n",
    "                conflicts[(cat1, cat2)][\"combos\"].add(combo)\n",
    "                if conflicts[(cat1, cat2)][\"example\"] is None:\n",
    "                    conflicts[(cat1, cat2)][\"example\"] = combo\n",
    "\n",
    "(by_state, conflicts)"
   ]
  },
  {
   "cell_type": "code",
   "execution_count": 10,
   "id": "7102e255",
   "metadata": {},
   "outputs": [
    {
     "data": {
      "text/plain": [
       "[('partisan_advantage', 'partisan_symmetry'),\n",
       " ('partisan_advantage', 'packing_cracking'),\n",
       " ('partisan_symmetry', 'packing_cracking')]"
      ]
     },
     "execution_count": 10,
     "metadata": {},
     "output_type": "execute_result"
    }
   ],
   "source": [
    "cross_categories"
   ]
  },
  {
   "cell_type": "markdown",
   "id": "e2f3efef",
   "metadata": {},
   "source": [
    "Aggregate the results into a reportable format."
   ]
  },
  {
   "cell_type": "code",
   "execution_count": 7,
   "id": "1f95b2a0",
   "metadata": {},
   "outputs": [],
   "source": [
    "report = dict()\n",
    "\n",
    "for c, _ledger in conflicts.items():\n",
    "    report[c] = dict()\n",
    "\n",
    "    diffs_by_state = [(xx, partisan_balance(by_state[xx]['Vf']), count / by_state[xx]['total']) for xx, count in _ledger[\"counts\"].items()]\n",
    "    diffs_by_state.sort(key=lambda x: x[1])\n",
    "\n",
    "    diffs = [(xx, f\"{Vf:.2%}\", f\"{rate:.2%}\") for xx, Vf, rate in diffs_by_state]\n",
    "\n",
    "    report[c] = {\n",
    "        \"conflict-rate\": diffs,\n",
    "        \"combos\": len(_ledger[\"combos\"]),\n",
    "        \"example\": _ledger[\"example\"],\n",
    "        \"values\": _ledger[\"values\"],\n",
    "        \"delta\": _ledger[\"delta\"],\n",
    "    }\n",
    "\n",
    "# report"
   ]
  },
  {
   "cell_type": "code",
   "execution_count": 8,
   "id": "fb64a9c8",
   "metadata": {},
   "outputs": [
    {
     "name": "stdout",
     "output_type": "stream",
     "text": [
      "Category: partisan_advantage\n",
      "  7 states with conflicts / 165 conflicting combos\n",
      "  State, Deviation from 50-50 Balance, Conflict Rate\n",
      "  [('NC', '0.57%', '1.04%'), ('WI', '0.68%', '0.35%'), ('FL', '1.63%', '2.94%'), ('MI', '1.88%', '2.06%'), ('OH', '3.62%', '0.74%'), ('IL', '8.17%', '71.68%'), ('NY', '14.78%', '24.33%')]\n",
      "  Example conflict: NY / upper / A0\n",
      "  Values = [-0.1428, 0.005]  (delta = 0.14780000000000001)\n",
      "\n",
      "Category: partisan_symmetry\n",
      "  7 states with conflicts / 132 conflicting combos\n",
      "  State, Deviation from 50-50 Balance, Conflict Rate\n",
      "  [('NC', '0.57%', '0.03%'), ('WI', '0.68%', '0.01%'), ('FL', '1.63%', '3.60%'), ('MI', '1.88%', '0.01%'), ('OH', '3.62%', '2.73%'), ('IL', '8.17%', '0.02%'), ('NY', '14.78%', '0.14%')]\n",
      "  Example conflict: NY / congress / D\n",
      "  Values = [0.093, 0.0413, -0.0066]  (delta = 0.0996)\n",
      "\n",
      "Category: packing_cracking\n",
      "  7 states with conflicts / 181 conflicting combos\n",
      "  State, Deviation from 50-50 Balance, Conflict Rate\n",
      "  [('NC', '0.57%', '11.79%'), ('WI', '0.68%', '0.47%'), ('FL', '1.63%', '18.74%'), ('MI', '1.88%', '0.32%'), ('OH', '3.62%', '70.08%'), ('IL', '8.17%', '4.98%'), ('NY', '14.78%', '0.02%')]\n",
      "  Example conflict: OH / congress / R25\n",
      "  Values = [-0.0084, 0.0223, 26.2204]  (delta = 26.228800000000003)\n",
      "\n",
      "Category: ('partisan_advantage', 'partisan_symmetry')\n",
      "  7 states with conflicts / 170 conflicting combos\n",
      "  State, Deviation from 50-50 Balance, Conflict Rate\n",
      "  [('NC', '0.57%', '1.83%'), ('WI', '0.68%', '0.22%'), ('FL', '1.63%', '11.55%'), ('MI', '1.88%', '0.61%'), ('OH', '3.62%', '7.11%'), ('IL', '8.17%', '28.31%'), ('NY', '14.78%', '75.61%')]\n",
      "  Example conflict: FL / congress / A0\n",
      "  Values = None  (delta = None)\n",
      "\n",
      "Category: ('partisan_advantage', 'packing_cracking')\n",
      "  7 states with conflicts / 135 conflicting combos\n",
      "  State, Deviation from 50-50 Balance, Conflict Rate\n",
      "  [('NC', '0.57%', '1.50%'), ('WI', '0.68%', '0.19%'), ('FL', '1.63%', '0.00%'), ('MI', '1.88%', '0.48%'), ('OH', '3.62%', '5.23%'), ('IL', '8.17%', '23.41%'), ('NY', '14.78%', '75.65%')]\n",
      "  Example conflict: IL / congress / A0\n",
      "  Values = None  (delta = None)\n",
      "\n",
      "Category: ('partisan_symmetry', 'packing_cracking')\n",
      "  7 states with conflicts / 96 conflicting combos\n",
      "  State, Deviation from 50-50 Balance, Conflict Rate\n",
      "  [('NC', '0.57%', '0.21%'), ('WI', '0.68%', '0.08%'), ('FL', '1.63%', '2.02%'), ('MI', '1.88%', '0.00%'), ('OH', '3.62%', '0.61%'), ('IL', '8.17%', '0.00%'), ('NY', '14.78%', '0.00%')]\n",
      "  Example conflict: FL / congress / A0\n",
      "  Values = None  (delta = None)\n",
      "\n"
     ]
    }
   ],
   "source": [
    "for _category, _ledger in report.items():\n",
    "    print(f\"Category: {_category}\")\n",
    "    print(f\"  {len(_ledger['conflict-rate'])} states with conflicts / {_ledger['combos']} conflicting combos\")\n",
    "    print(f\"  State, Deviation from 50-50 Balance, Conflict Rate\")\n",
    "    print(f\"  { _ledger[\"conflict-rate\"]}\")\n",
    "    if _ledger[\"example\"] is not None:\n",
    "        xx, chamber, ensemble = _ledger[\"example\"]\n",
    "        print(f\"  Example conflict: {xx} / {chamber} / {ensemble}\")\n",
    "        print(f\"  Values = {_ledger['values']}  (delta = {_ledger['delta']})\")\n",
    "    print()"
   ]
  },
  {
   "cell_type": "markdown",
   "id": "53785cd3",
   "metadata": {},
   "source": []
  }
 ],
 "metadata": {
  "kernelspec": {
   "display_name": "rdametrics",
   "language": "python",
   "name": "python3"
  },
  "language_info": {
   "codemirror_mode": {
    "name": "ipython",
    "version": 3
   },
   "file_extension": ".py",
   "mimetype": "text/x-python",
   "name": "python",
   "nbconvert_exporter": "python",
   "pygments_lexer": "ipython3",
   "version": "3.13.1"
  }
 },
 "nbformat": 4,
 "nbformat_minor": 5
}
