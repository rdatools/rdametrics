{
 "cells": [
  {
   "cell_type": "markdown",
   "id": "5e89d6dc",
   "metadata": {},
   "source": [
    "The purpose of this notebook is to identify the frequency of conflicts between metrics that purport to measure the degree to which a plan favors one party or another."
   ]
  },
  {
   "cell_type": "code",
   "execution_count": 1,
   "id": "f3e85013",
   "metadata": {},
   "outputs": [],
   "source": [
    "from typing import List, Dict, Any, Set\n",
    "\n",
    "import os\n",
    "import pandas as pd\n",
    "from collections import defaultdict\n",
    "\n",
    "from rdametrics import states, chambers, ensembles"
   ]
  },
  {
   "cell_type": "markdown",
   "id": "f8d44017",
   "metadata": {},
   "source": [
    "Load the scores dataframe"
   ]
  },
  {
   "cell_type": "code",
   "execution_count": 2,
   "id": "1914913e",
   "metadata": {},
   "outputs": [],
   "source": [
    "scores_path: str = \"~/local/beta-ensembles/prepackaged/scores/scores.parquet\"\n",
    "scores_df = pd.read_parquet(os.path.expanduser(scores_path))"
   ]
  },
  {
   "cell_type": "markdown",
   "id": "58765517",
   "metadata": {},
   "source": [
    "Helper code"
   ]
  },
  {
   "cell_type": "code",
   "execution_count": 6,
   "id": "fae95b01",
   "metadata": {},
   "outputs": [],
   "source": [
    "import pandas as pd\n",
    "\n",
    "ensembles = [e for e in ensembles if e not in [\"A1\", \"A2\", \"A3\", \"A4\", \"Rev*\"]]\n",
    "\n",
    "partisan_bias = {\n",
    "    \"partisan_advantage\": [\"disproportionality\", \"efficiency_gap\"],\n",
    "    \"partisan_symmetry\": [\"seats_bias\", \"votes_bias\", \"geometric_seats_bias\"],\n",
    "    \"packing_cracking\": [\"mean_median_average_district\", \"lopsided_outcomes\", \"declination\"],\n",
    "}\n",
    "metrics: List[str] = [m for ms in partisan_bias.values() for m in ms]\n",
    "\n",
    "categories: List[str] = list(partisan_bias.keys())\n",
    "\n",
    "def same_sign(a, b):\n",
    "    if a == 0.0 or b == 0.0:\n",
    "        return True\n",
    "    \n",
    "    if pd.isna(a) or pd.isna(b):\n",
    "        return True\n",
    "    \n",
    "    assert isinstance(a, (int, float)) and isinstance(b, (int, float)), f\"Unexpected types: {type(a)}, {type(b)}\"\n",
    "\n",
    "    return a * b > 0\n",
    "\n",
    "def same_signs(values):\n",
    "    # Filter out zero values and NaN values\n",
    "    non_zero_defined_values = [x for x in values if x != 0 and not pd.isna(x)]\n",
    "    \n",
    "    # If no valid values or only one valid value, return True\n",
    "    if len(non_zero_defined_values) <= 1:\n",
    "        return True\n",
    "    \n",
    "    # Check if all valid values have the same sign\n",
    "    all_positive = all(x > 0 for x in non_zero_defined_values)\n",
    "    all_negative = all(x < 0 for x in non_zero_defined_values)\n",
    "    \n",
    "    return all_positive or all_negative\n",
    "\n",
    "# def same_signs(list1, list2):\n",
    "#     # Combine both lists and filter out zero values and NaN values\n",
    "#     all_values = list1 + list2\n",
    "#     non_zero_defined_values = [x for x in all_values if x != 0 and not pd.isna(x)]\n",
    "    \n",
    "#     # If no valid values or only one valid value, return True\n",
    "#     if len(non_zero_defined_values) <= 1:\n",
    "#         return True\n",
    "    \n",
    "#     # Check if all valid values have the same sign\n",
    "#     all_positive = all(x > 0 for x in non_zero_defined_values)\n",
    "#     all_negative = all(x < 0 for x in non_zero_defined_values)\n",
    "    \n",
    "#     return all_positive or all_negative\n",
    "\n",
    "def partisan_balance(Vf: float) -> float:\n",
    "    balance: float = Vf - 0.5\n",
    "    if Vf < 0.5:\n",
    "        balance = -balance\n",
    "    return balance\n",
    "\n",
    "def metric_pair(string_tuple):\n",
    "    return tuple(sorted(string_tuple))"
   ]
  },
  {
   "cell_type": "markdown",
   "id": "4ae40eb6",
   "metadata": {},
   "source": [
    "Setup counters for various kinds of conflicts."
   ]
  },
  {
   "cell_type": "code",
   "execution_count": 10,
   "id": "fbc1273c",
   "metadata": {},
   "outputs": [],
   "source": [
    "from itertools import combinations\n",
    "import copy\n",
    "from typing import defaultdict\n",
    "\n",
    "total_plans: int = 0\n",
    "by_state: Dict[str, Any] = dict()\n",
    "for xx in states:\n",
    "    by_state[xx] = {\n",
    "        \"Vf\": None,\n",
    "        \"total\": 0\n",
    "    }\n",
    "\n",
    "conflicts = dict()\n",
    "_ledger = {\n",
    "    \"counts\": {xx: 0 for xx in states},\n",
    "    \"combos\": set(),\n",
    "    \"example\": None,\n",
    "    \"values\": None,\n",
    "    \"delta\": None,\n",
    "}\n",
    "\n",
    "cross_categories = list(combinations(categories, 2))\n",
    "for c in categories + cross_categories:\n",
    "    conflicts[c] = copy.deepcopy(_ledger)\n",
    "\n",
    "pairwise_metric_conflicts: Dict[tuple, int] = defaultdict(int)\n",
    "\n",
    "# conflicts"
   ]
  },
  {
   "cell_type": "markdown",
   "id": "4c0d2a2f",
   "metadata": {},
   "source": [
    "Count instances where the scores conflict. Keep track of state / chamber / ensemble combinations."
   ]
  },
  {
   "cell_type": "code",
   "execution_count": null,
   "id": "34313206",
   "metadata": {},
   "outputs": [],
   "source": [
    "for index, row in scores_df.iterrows():\n",
    "    if row[\"ensemble\"] not in ensembles:\n",
    "        continue\n",
    "\n",
    "    xx, chamber, ensemble = (row[\"state\"], row[\"chamber\"], row[\"ensemble\"])\n",
    "    combo = (xx, chamber, ensemble)\n",
    "    plan = f\"{row['map']:09}\"\n",
    "\n",
    "    total_plans += 1\n",
    "\n",
    "    by_state[xx][\"total\"] += 1\n",
    "    if by_state[xx][\"Vf\"] is None:\n",
    "        by_state[xx][\"Vf\"] = row[\"estimated_vote_pct\"]\n",
    "\n",
    "    consistent = {\n",
    "        \"partisan_advantage\": True,\n",
    "        \"packing_cracking\": True,\n",
    "        \"partisan_symmetry\": True\n",
    "    }\n",
    "\n",
    "    # Check pairwise metric conflicts\n",
    "\n",
    "    for m1, m2 in combinations(metrics, 2):\n",
    "        v1 = row[m1]\n",
    "        v2 = row[m2]\n",
    "        if not same_sign(v1, v2):\n",
    "            pairwise_metric_conflicts[metric_pair((m1, m2))] += 1\n",
    "\n",
    "    # # Check consistency within each category\n",
    "\n",
    "    # for c in categories:\n",
    "    #     values = [row[m] for m in partisan_bias[c]]\n",
    "    #     delta = abs(max(values) - min(values))\n",
    "    #     if not same_signs(values):\n",
    "    #         consistent[c] = False\n",
    "    #         conflicts[c][\"counts\"][xx] += 1\n",
    "    #         conflicts[c][\"combos\"].add(combo)\n",
    "    #         if conflicts[c][\"example\"] is None or delta > conflicts[c][\"delta\"]:\n",
    "    #             conflicts[c][\"example\"] = (combo, plan)\n",
    "    #             conflicts[c][\"values\"] = values\n",
    "    #             conflicts[c][\"delta\"] = delta\n",
    "\n",
    "    # # Compare consistency across categories\n",
    "    \n",
    "    # for cat1, cat2 in cross_categories:\n",
    "    #     if consistent[cat1] and consistent[cat2]:\n",
    "    #         v1 = row[partisan_bias[cat1][0]]\n",
    "    #         v2 = row[partisan_bias[cat2][0]]\n",
    "    #         if not same_sign(v1, v2):\n",
    "    #             conflicts[(cat1, cat2)][\"counts\"][xx] += 1\n",
    "    #             conflicts[(cat1, cat2)][\"combos\"].add(combo)\n",
    "    #             if conflicts[(cat1, cat2)][\"example\"] is None:\n",
    "    #                 conflicts[(cat1, cat2)][\"example\"] = (combo, plan)\n",
    "\n",
    "# (by_state, conflicts)\n",
    "# pairwise_metric_conflicts"
   ]
  },
  {
   "cell_type": "markdown",
   "id": "c0743fd9",
   "metadata": {},
   "source": [
    "Make the matrix data structure"
   ]
  },
  {
   "cell_type": "code",
   "execution_count": 24,
   "id": "48e7b081",
   "metadata": {},
   "outputs": [
    {
     "name": "stdout",
     "output_type": "stream",
     "text": [
      "disproportionality,efficiency_gap,seats_bias,votes_bias,geometric_seats_bias,mean_median_average_district,lopsided_outcomes,declination\n",
      "disproportionality,0.00%,14.73%,32.70%,32.67%,33.46%,33.90%,44.20%,28.35%\n",
      "efficiency_gap,14.73%,0.00%,17.93%,17.90%,18.65%,19.56%,29.39%,14.25%\n",
      "seats_bias,32.70%,17.93%,0.00%,0.00%,0.93%,4.59%,12.09%,3.54%\n",
      "votes_bias,32.67%,17.90%,0.00%,0.00%,0.90%,4.56%,12.06%,3.50%\n",
      "geometric_seats_bias,33.46%,18.65%,0.93%,0.90%,0.00%,5.21%,11.87%,4.00%\n",
      "mean_median_average_district,33.90%,19.56%,4.59%,4.56%,5.21%,0.00%,11.28%,4.86%\n",
      "lopsided_outcomes,44.20%,29.39%,12.09%,12.06%,11.87%,11.28%,0.00%,14.22%\n",
      "declination,28.35%,14.25%,3.54%,3.50%,4.00%,4.86%,14.22%,0.00%\n"
     ]
    }
   ],
   "source": [
    "# rows = list()\n",
    "# headers = [\"\"] + metrics\n",
    "line: str =\",\".join(metrics)\n",
    "print(f\"{line}\")\n",
    "# rows.append(headers)\n",
    "for m1 in metrics:\n",
    "    row = [m1]\n",
    "    for m2 in metrics:\n",
    "        if m1 == m2:\n",
    "            row.append(\"0.00%\")\n",
    "        else:\n",
    "            cell: float = pairwise_metric_conflicts[metric_pair((m1, m2))] / total_plans\n",
    "            row.append(f\"{cell:.2%}\")\n",
    "    # rows.append(row)\n",
    "    line = \",\".join(row)\n",
    "    print(f\"{line}\")\n",
    "\n",
    "# rows\n"
   ]
  },
  {
   "cell_type": "markdown",
   "id": "e2afa3e3",
   "metadata": {},
   "source": [
    "Print the pairwise conflicts"
   ]
  },
  {
   "cell_type": "markdown",
   "id": "e2f3efef",
   "metadata": {},
   "source": [
    "Aggregate the results into a reportable format."
   ]
  },
  {
   "cell_type": "code",
   "execution_count": null,
   "id": "1f95b2a0",
   "metadata": {},
   "outputs": [],
   "source": [
    "report = dict()\n",
    "\n",
    "for c, _ledger in conflicts.items():\n",
    "    report[c] = dict()\n",
    "\n",
    "    diffs_by_state = [(xx, partisan_balance(by_state[xx]['Vf']), count / by_state[xx]['total']) for xx, count in _ledger[\"counts\"].items()]\n",
    "    diffs_by_state.sort(key=lambda x: x[1])\n",
    "\n",
    "    diffs = [(xx, f\"{Vf:.2%}\", f\"{rate:.2%}\") for xx, Vf, rate in diffs_by_state]\n",
    "\n",
    "    states_with_conflicts: Set[str] = set()\n",
    "    for combo in _ledger[\"combos\"]:\n",
    "        xx = combo[0]\n",
    "        states_with_conflicts.add(xx)\n",
    "\n",
    "    report[c] = {\n",
    "        \"conflict-rate\": diffs,\n",
    "        \"states\": states_with_conflicts,\n",
    "        \"combos\": len(_ledger[\"combos\"]),\n",
    "        \"example\": _ledger[\"example\"],\n",
    "        \"values\": _ledger[\"values\"],\n",
    "        \"delta\": _ledger[\"delta\"],\n",
    "    }\n",
    "\n",
    "# report"
   ]
  },
  {
   "cell_type": "markdown",
   "id": "a72daadf",
   "metadata": {},
   "source": [
    "Generate the report."
   ]
  },
  {
   "cell_type": "code",
   "execution_count": null,
   "id": "fb64a9c8",
   "metadata": {},
   "outputs": [],
   "source": [
    "for _category, _ledger in report.items():\n",
    "    print(f\"Category: {_category}\")\n",
    "    print(f\"  {len(_ledger['states'])} states ({_ledger['states']}) with conflicts / {_ledger['combos']} conflicting combos\")\n",
    "    print(f\"  State, Deviation from 50-50 Balance, Conflict Rate\")\n",
    "    print(f\"  { _ledger[\"conflict-rate\"]}\")\n",
    "    if _ledger[\"example\"] is not None:\n",
    "        print(f\"  Example conflict: {_ledger['example']}\")\n",
    "        print(f\"  Values = {_ledger['values']}  (delta = {_ledger['delta']})\")\n",
    "    print()"
   ]
  }
 ],
 "metadata": {
  "kernelspec": {
   "display_name": "rdametrics",
   "language": "python",
   "name": "python3"
  },
  "language_info": {
   "codemirror_mode": {
    "name": "ipython",
    "version": 3
   },
   "file_extension": ".py",
   "mimetype": "text/x-python",
   "name": "python",
   "nbconvert_exporter": "python",
   "pygments_lexer": "ipython3",
   "version": "3.13.1"
  }
 },
 "nbformat": 4,
 "nbformat_minor": 5
}
