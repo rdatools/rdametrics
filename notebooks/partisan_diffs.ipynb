{
 "cells": [
  {
   "cell_type": "markdown",
   "id": "5e89d6dc",
   "metadata": {},
   "source": [
    "The purpose of this notebook is to identify the frequency of conflicts between metrics that purport to measure the degree to which a plan favors one party or another."
   ]
  },
  {
   "cell_type": "code",
   "execution_count": 1,
   "id": "f3e85013",
   "metadata": {},
   "outputs": [],
   "source": [
    "from typing import List, Dict, Any, Set\n",
    "\n",
    "import os\n",
    "import pandas as pd\n",
    "from collections import defaultdict\n",
    "\n",
    "from rdametrics import states, chambers, ensembles"
   ]
  },
  {
   "cell_type": "markdown",
   "id": "f8d44017",
   "metadata": {},
   "source": [
    "Load the scores dataframe"
   ]
  },
  {
   "cell_type": "code",
   "execution_count": 2,
   "id": "1914913e",
   "metadata": {},
   "outputs": [],
   "source": [
    "scores_path: str = \"~/local/beta-ensembles/prepackaged/scores/scores.parquet\"\n",
    "scores_df = pd.read_parquet(os.path.expanduser(scores_path))"
   ]
  },
  {
   "cell_type": "markdown",
   "id": "58765517",
   "metadata": {},
   "source": [
    "Helper code"
   ]
  },
  {
   "cell_type": "code",
   "execution_count": 13,
   "id": "fae95b01",
   "metadata": {},
   "outputs": [],
   "source": [
    "# from typing import Union\n",
    "import numpy as np\n",
    "import pandas as pd\n",
    "\n",
    "ensembles = [e for e in ensembles if e not in [\"A1\", \"A2\", \"A3\", \"A4\", \"Rev*\"]]\n",
    "\n",
    "partisan_bias = {\n",
    "    \"partisan_advantage\": [\"disproportionality\", \"efficiency_gap\"],\n",
    "    \"partisan_symmetry\": [\"seats_bias\", \"votes_bias\", \"geometric_seats_bias\"],\n",
    "    \"packing_cracking\": [\"mean_median_average_district\", \"lopsided_outcomes\", \"declination\"],\n",
    "}\n",
    "\n",
    "categories: List[str] = list(partisan_bias.keys())\n",
    "\n",
    "# def same_sign(a: float | int | None, b: float | int | None) -> bool:\n",
    "#     if a == 0.0 or b == 0.0:\n",
    "#         return True\n",
    "    \n",
    "#     if pd.isna(a) or pd.isna(b):\n",
    "#         return True\n",
    "\n",
    "#     return a * b > 0\n",
    "\n",
    "def same_sign(a, b):\n",
    "    if a == 0.0 or b == 0.0:\n",
    "        return True\n",
    "    \n",
    "    if pd.isna(a) or pd.isna(b):\n",
    "        return True\n",
    "    \n",
    "    assert isinstance(a, (int, float)) and isinstance(b, (int, float)), f\"Unexpected types: {type(a)}, {type(b)}\"\n",
    "\n",
    "    return a * b > 0\n",
    "\n",
    "# def same_signs(list1, list2):\n",
    "#     # Combine both lists and filter out zero values and NaN values\n",
    "#     all_values = list1 + list2\n",
    "#     non_zero_defined_values = [x for x in all_values if x != 0 and not pd.isna(x)]\n",
    "    \n",
    "#     # If no valid values or only one valid value, return True\n",
    "#     if len(non_zero_defined_values) <= 1:\n",
    "#         return True\n",
    "    \n",
    "#     # Check if all valid values have the same sign\n",
    "#     all_positive = all(x > 0 for x in non_zero_defined_values)\n",
    "#     all_negative = all(x < 0 for x in non_zero_defined_values)\n",
    "    \n",
    "#     return all_positive or all_negative\n",
    "\n"
   ]
  },
  {
   "cell_type": "markdown",
   "id": "4ae40eb6",
   "metadata": {},
   "source": [
    "Setup counters for various kinds of conflicts."
   ]
  },
  {
   "cell_type": "code",
   "execution_count": 18,
   "id": "fbc1273c",
   "metadata": {},
   "outputs": [],
   "source": [
    "from itertools import combinations\n",
    "import copy\n",
    "from collections import defaultdict\n",
    "\n",
    "by_state: Dict[str, Any] = dict()\n",
    "\n",
    "for xx in states:\n",
    "    by_state[xx] = {\n",
    "        \"Vf\": None,\n",
    "        \"total\": 0\n",
    "    }\n",
    "\n",
    "conflicts = dict()\n",
    "_ledger = {\n",
    "    \"counts\": defaultdict(int),\n",
    "    \"combos\": set(),\n",
    "    \"example\": None,\n",
    "    \"value1\": None,\n",
    "    \"value2\": None,\n",
    "    \"delta\": None,\n",
    "}\n",
    "\n",
    "for c in categories:\n",
    "    conflicts[c] = dict()\n",
    "    pairs = combinations(partisan_bias[c], 2)\n",
    "    for p in pairs:\n",
    "        conflicts[c][p] = copy.deepcopy(_ledger)\n",
    "\n",
    "conflicts[\"cross_category\"] = dict()\n",
    "pairs = combinations(categories, 2)\n",
    "for p in pairs:\n",
    "    conflicts[\"cross_category\"][p] = copy.deepcopy(_ledger)\n",
    "\n",
    "# conflicts"
   ]
  },
  {
   "cell_type": "markdown",
   "id": "4c0d2a2f",
   "metadata": {},
   "source": [
    "Count instances where the scores conflict. Keep track by state / chamber / ensemble combination."
   ]
  },
  {
   "cell_type": "code",
   "execution_count": null,
   "id": "34313206",
   "metadata": {},
   "outputs": [
    {
     "ename": "AssertionError",
     "evalue": "Unexpected types: <class 'str'>, <class 'str'>",
     "output_type": "error",
     "traceback": [
      "\u001b[31m---------------------------------------------------------------------------\u001b[39m",
      "\u001b[31mAssertionError\u001b[39m                            Traceback (most recent call last)",
      "\u001b[36mCell\u001b[39m\u001b[36m \u001b[39m\u001b[32mIn[16]\u001b[39m\u001b[32m, line 39\u001b[39m\n\u001b[32m     37\u001b[39m \u001b[38;5;28;01mfor\u001b[39;00m _pair, _ledger \u001b[38;5;129;01min\u001b[39;00m conflicts[\u001b[33m\"\u001b[39m\u001b[33mcross_category\u001b[39m\u001b[33m\"\u001b[39m].items():\n\u001b[32m     38\u001b[39m     cat1, cat2 = _pair\n\u001b[32m---> \u001b[39m\u001b[32m39\u001b[39m     \u001b[38;5;28;01mif\u001b[39;00m consistent[cat1] \u001b[38;5;129;01mand\u001b[39;00m consistent[cat2] \u001b[38;5;129;01mand\u001b[39;00m \u001b[38;5;129;01mnot\u001b[39;00m \u001b[43msame_sign\u001b[49m\u001b[43m(\u001b[49m\u001b[43mpartisan_bias\u001b[49m\u001b[43m[\u001b[49m\u001b[43mcat1\u001b[49m\u001b[43m]\u001b[49m\u001b[43m[\u001b[49m\u001b[32;43m0\u001b[39;49m\u001b[43m]\u001b[49m\u001b[43m,\u001b[49m\u001b[43m \u001b[49m\u001b[43mpartisan_bias\u001b[49m\u001b[43m[\u001b[49m\u001b[43mcat2\u001b[49m\u001b[43m]\u001b[49m\u001b[43m[\u001b[49m\u001b[32;43m0\u001b[39;49m\u001b[43m]\u001b[49m\u001b[43m)\u001b[49m:\n\u001b[32m     40\u001b[39m         _ledger[\u001b[33m\"\u001b[39m\u001b[33mcounts\u001b[39m\u001b[33m\"\u001b[39m][xx] += \u001b[32m1\u001b[39m\n\u001b[32m     41\u001b[39m         _ledger[\u001b[33m\"\u001b[39m\u001b[33mcombos\u001b[39m\u001b[33m\"\u001b[39m].add(combo)\n",
      "\u001b[36mCell\u001b[39m\u001b[36m \u001b[39m\u001b[32mIn[13]\u001b[39m\u001b[32m, line 31\u001b[39m, in \u001b[36msame_sign\u001b[39m\u001b[34m(a, b)\u001b[39m\n\u001b[32m     28\u001b[39m \u001b[38;5;28;01mif\u001b[39;00m pd.isna(a) \u001b[38;5;129;01mor\u001b[39;00m pd.isna(b):\n\u001b[32m     29\u001b[39m     \u001b[38;5;28;01mreturn\u001b[39;00m \u001b[38;5;28;01mTrue\u001b[39;00m\n\u001b[32m---> \u001b[39m\u001b[32m31\u001b[39m \u001b[38;5;28;01massert\u001b[39;00m \u001b[38;5;28misinstance\u001b[39m(a, (\u001b[38;5;28mint\u001b[39m, \u001b[38;5;28mfloat\u001b[39m)) \u001b[38;5;129;01mand\u001b[39;00m \u001b[38;5;28misinstance\u001b[39m(b, (\u001b[38;5;28mint\u001b[39m, \u001b[38;5;28mfloat\u001b[39m)), \u001b[33mf\u001b[39m\u001b[33m\"\u001b[39m\u001b[33mUnexpected types: \u001b[39m\u001b[38;5;132;01m{\u001b[39;00m\u001b[38;5;28mtype\u001b[39m(a)\u001b[38;5;132;01m}\u001b[39;00m\u001b[33m, \u001b[39m\u001b[38;5;132;01m{\u001b[39;00m\u001b[38;5;28mtype\u001b[39m(b)\u001b[38;5;132;01m}\u001b[39;00m\u001b[33m\"\u001b[39m\n\u001b[32m     33\u001b[39m \u001b[38;5;28;01mreturn\u001b[39;00m a * b > \u001b[32m0\u001b[39m\n",
      "\u001b[31mAssertionError\u001b[39m: Unexpected types: <class 'str'>, <class 'str'>"
     ]
    }
   ],
   "source": [
    "for index, row in scores_df.iterrows():\n",
    "    if row[\"ensemble\"] not in ensembles:\n",
    "        continue\n",
    "\n",
    "    xx, chamber, ensemble = (row[\"state\"], row[\"chamber\"], row[\"ensemble\"])\n",
    "    combo = (xx, chamber, ensemble)\n",
    "\n",
    "    by_state[xx][\"total\"] += 1\n",
    "    if by_state[xx][\"Vf\"] is None:\n",
    "        by_state[xx][\"Vf\"] = row[\"estimated_vote_pct\"]\n",
    "\n",
    "    consistent = {\n",
    "        \"partisan_advantage\": True,\n",
    "        \"packing_cracking\": True,\n",
    "        \"partisan_symmetry\": True\n",
    "    }\n",
    "\n",
    "    # Check consistency within each category\n",
    "\n",
    "    for c in categories:\n",
    "        for _pair, _ledger in conflicts[c].items():\n",
    "            m1, m2 = _pair\n",
    "            v1 = row[m1]\n",
    "            v2 = row[m2]\n",
    "            delta = abs(v1 - v2)\n",
    "            if not same_sign(v1, v2):\n",
    "                consistent[c] = False\n",
    "                _ledger[\"counts\"][xx] += 1\n",
    "                _ledger[\"combos\"].add(combo)\n",
    "                if _ledger[\"example\"] is None or delta > _ledger[\"delta\"]:\n",
    "                    _ledger[\"example\"] = combo\n",
    "                    _ledger[\"value1\"] = v1\n",
    "                    _ledger[\"value2\"] = v2\n",
    "                    _ledger[\"delta\"] = delta\n",
    "\n",
    "    # Compare consistency across categories\n",
    "    for _pair, _ledger in conflicts[\"cross_category\"].items():\n",
    "        cat1, cat2 = _pair\n",
    "        if consistent[cat1] and consistent[cat2]:\n",
    "            v1 = row[partisan_bias[cat1][0]]\n",
    "            v2 = row[partisan_bias[cat2][0]]\n",
    "            if not same_sign(v1, v2):\n",
    "                _ledger[\"counts\"][xx] += 1\n",
    "                _ledger[\"combos\"].add(combo)\n",
    "                if _ledger[\"example\"] is None:\n",
    "                    _ledger[\"example\"] = combo\n",
    "                    # _ledger[\"value1\"] = cat1\n",
    "                    # _ledger[\"value2\"] = cat2\n",
    "                    # _ledger[\"delta\"] = None\n",
    "\n",
    "\n",
    "# (by_state, conflicts)\n",
    "conflicts"
   ]
  }
 ],
 "metadata": {
  "kernelspec": {
   "display_name": "rdametrics",
   "language": "python",
   "name": "python3"
  },
  "language_info": {
   "codemirror_mode": {
    "name": "ipython",
    "version": 3
   },
   "file_extension": ".py",
   "mimetype": "text/x-python",
   "name": "python",
   "nbconvert_exporter": "python",
   "pygments_lexer": "ipython3",
   "version": "3.13.1"
  }
 },
 "nbformat": 4,
 "nbformat_minor": 5
}
