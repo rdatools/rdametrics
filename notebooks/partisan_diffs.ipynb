{
 "cells": [
  {
   "cell_type": "markdown",
   "id": "5e89d6dc",
   "metadata": {},
   "source": [
    "The purpose of this notebook is to identify the frequency of conflicts between metrics that purport to measure the degree to which a plan favors one party or another."
   ]
  },
  {
   "cell_type": "code",
   "execution_count": null,
   "id": "f3e85013",
   "metadata": {},
   "outputs": [],
   "source": [
    "from typing import List, Dict, Any, Set\n",
    "\n",
    "import os\n",
    "import pandas as pd\n",
    "from collections import defaultdict\n",
    "\n",
    "from rdametrics import states, chambers, ensembles"
   ]
  },
  {
   "cell_type": "markdown",
   "id": "f8d44017",
   "metadata": {},
   "source": [
    "Load the scores dataframe"
   ]
  },
  {
   "cell_type": "code",
   "execution_count": null,
   "id": "1914913e",
   "metadata": {},
   "outputs": [],
   "source": [
    "scores_path: str = \"~/local/beta-ensembles/prepackaged/scores/scores.parquet\"\n",
    "scores_df = pd.read_parquet(os.path.expanduser(scores_path))"
   ]
  },
  {
   "cell_type": "markdown",
   "id": "58765517",
   "metadata": {},
   "source": [
    "Helper code"
   ]
  },
  {
   "cell_type": "code",
   "execution_count": null,
   "id": "fae95b01",
   "metadata": {},
   "outputs": [],
   "source": [
    "import pandas as pd\n",
    "\n",
    "ensembles = [e for e in ensembles if e not in [\"A1\", \"A2\", \"A3\", \"A4\", \"Rev*\"]]\n",
    "\n",
    "partisan_bias = {\n",
    "    \"partisan_advantage\": [\"disproportionality\", \"efficiency_gap\"],\n",
    "    \"partisan_symmetry\": [\"seats_bias\", \"votes_bias\", \"geometric_seats_bias\"],\n",
    "    \"packing_cracking\": [\"mean_median_average_district\", \"lopsided_outcomes\", \"declination\"],\n",
    "}\n",
    "\n",
    "categories: List[str] = list(partisan_bias.keys())\n",
    "\n",
    "def same_sign(a, b):\n",
    "    if a == 0.0 or b == 0.0:\n",
    "        return True\n",
    "    \n",
    "    if pd.isna(a) or pd.isna(b):\n",
    "        return True\n",
    "    \n",
    "    assert isinstance(a, (int, float)) and isinstance(b, (int, float)), f\"Unexpected types: {type(a)}, {type(b)}\"\n",
    "\n",
    "    return a * b > 0\n",
    "\n",
    "def same_signs(values):\n",
    "    # Filter out zero values and NaN values\n",
    "    non_zero_defined_values = [x for x in values if x != 0 and not pd.isna(x)]\n",
    "    \n",
    "    # If no valid values or only one valid value, return True\n",
    "    if len(non_zero_defined_values) <= 1:\n",
    "        return True\n",
    "    \n",
    "    # Check if all valid values have the same sign\n",
    "    all_positive = all(x > 0 for x in non_zero_defined_values)\n",
    "    all_negative = all(x < 0 for x in non_zero_defined_values)\n",
    "    \n",
    "    return all_positive or all_negative\n",
    "\n",
    "# def same_signs(list1, list2):\n",
    "#     # Combine both lists and filter out zero values and NaN values\n",
    "#     all_values = list1 + list2\n",
    "#     non_zero_defined_values = [x for x in all_values if x != 0 and not pd.isna(x)]\n",
    "    \n",
    "#     # If no valid values or only one valid value, return True\n",
    "#     if len(non_zero_defined_values) <= 1:\n",
    "#         return True\n",
    "    \n",
    "#     # Check if all valid values have the same sign\n",
    "#     all_positive = all(x > 0 for x in non_zero_defined_values)\n",
    "#     all_negative = all(x < 0 for x in non_zero_defined_values)\n",
    "    \n",
    "#     return all_positive or all_negative\n",
    "\n",
    "def partisan_balance(Vf: float) -> float:\n",
    "    balance: float = Vf - 0.5\n",
    "    if Vf < 0.5:\n",
    "        balance = -balance\n",
    "    return balance"
   ]
  },
  {
   "cell_type": "markdown",
   "id": "4ae40eb6",
   "metadata": {},
   "source": [
    "Setup counters for various kinds of conflicts."
   ]
  },
  {
   "cell_type": "code",
   "execution_count": null,
   "id": "fbc1273c",
   "metadata": {},
   "outputs": [],
   "source": [
    "from itertools import combinations\n",
    "import copy\n",
    "\n",
    "by_state: Dict[str, Any] = dict()\n",
    "\n",
    "for xx in states:\n",
    "    by_state[xx] = {\n",
    "        \"Vf\": None,\n",
    "        \"total\": 0\n",
    "    }\n",
    "\n",
    "conflicts = dict()\n",
    "_ledger = {\n",
    "    \"counts\": {xx: 0 for xx in states},\n",
    "    \"combos\": set(),\n",
    "    \"example\": None,\n",
    "    \"values\": None,\n",
    "    \"delta\": None,\n",
    "}\n",
    "\n",
    "cross_categories = list(combinations(categories, 2))\n",
    "for c in categories + cross_categories:\n",
    "    conflicts[c] = copy.deepcopy(_ledger)\n",
    "\n",
    "# conflicts"
   ]
  },
  {
   "cell_type": "markdown",
   "id": "4c0d2a2f",
   "metadata": {},
   "source": [
    "Count instances where the scores conflict. Keep track of state / chamber / ensemble combinations."
   ]
  },
  {
   "cell_type": "code",
   "execution_count": null,
   "id": "34313206",
   "metadata": {},
   "outputs": [],
   "source": [
    "for index, row in scores_df.iterrows():\n",
    "    if row[\"ensemble\"] not in ensembles:\n",
    "        continue\n",
    "\n",
    "    xx, chamber, ensemble = (row[\"state\"], row[\"chamber\"], row[\"ensemble\"])\n",
    "    combo = (xx, chamber, ensemble)\n",
    "\n",
    "    by_state[xx][\"total\"] += 1\n",
    "    if by_state[xx][\"Vf\"] is None:\n",
    "        by_state[xx][\"Vf\"] = row[\"estimated_vote_pct\"]\n",
    "\n",
    "    consistent = {\n",
    "        \"partisan_advantage\": True,\n",
    "        \"packing_cracking\": True,\n",
    "        \"partisan_symmetry\": True\n",
    "    }\n",
    "\n",
    "    # Check consistency within each category\n",
    "\n",
    "    for c in categories:\n",
    "        values = [row[m] for m in partisan_bias[c]]\n",
    "        delta = abs(max(values) - min(values))\n",
    "        if not same_signs(values):\n",
    "            consistent[c] = False\n",
    "            conflicts[c][\"counts\"][xx] += 1\n",
    "            conflicts[c][\"combos\"].add(combo)\n",
    "            if conflicts[c][\"example\"] is None or delta > conflicts[c][\"delta\"]:\n",
    "                conflicts[c][\"example\"] = combo\n",
    "                conflicts[c][\"values\"] = values\n",
    "                conflicts[c][\"delta\"] = delta\n",
    "\n",
    "    # Compare consistency across categories\n",
    "    \n",
    "    for cat1, cat2 in cross_categories:\n",
    "        if consistent[cat1] and consistent[cat2]:\n",
    "            v1 = row[partisan_bias[cat1][0]]\n",
    "            v2 = row[partisan_bias[cat2][0]]\n",
    "            if not same_sign(v1, v2):\n",
    "                conflicts[(cat1, cat2)][\"counts\"][xx] += 1\n",
    "                conflicts[(cat1, cat2)][\"combos\"].add(combo)\n",
    "                if conflicts[(cat1, cat2)][\"example\"] is None:\n",
    "                    conflicts[(cat1, cat2)][\"example\"] = combo\n",
    "\n",
    "# (by_state, conflicts)"
   ]
  },
  {
   "cell_type": "markdown",
   "id": "e2f3efef",
   "metadata": {},
   "source": [
    "Aggregate the results into a reportable format."
   ]
  },
  {
   "cell_type": "code",
   "execution_count": null,
   "id": "1f95b2a0",
   "metadata": {},
   "outputs": [],
   "source": [
    "report = dict()\n",
    "\n",
    "for c, _ledger in conflicts.items():\n",
    "    report[c] = dict()\n",
    "\n",
    "    diffs_by_state = [(xx, partisan_balance(by_state[xx]['Vf']), count / by_state[xx]['total']) for xx, count in _ledger[\"counts\"].items()]\n",
    "    diffs_by_state.sort(key=lambda x: x[1])\n",
    "\n",
    "    diffs = [(xx, f\"{Vf:.2%}\", f\"{rate:.2%}\") for xx, Vf, rate in diffs_by_state]\n",
    "\n",
    "    report[c] = {\n",
    "        \"conflict-rate\": diffs,\n",
    "        \"compare-rate\": compare,\n",
    "        \"combos\": len(_ledger[\"combos\"]),\n",
    "        \"example\": _ledger[\"example\"],\n",
    "        \"values\": _ledger[\"values\"],\n",
    "        \"delta\": _ledger[\"delta\"],\n",
    "    }\n",
    "\n",
    "# report"
   ]
  },
  {
   "cell_type": "code",
   "execution_count": null,
   "id": "fb64a9c8",
   "metadata": {},
   "outputs": [],
   "source": [
    "for _category, _ledger in report.items():\n",
    "    print(f\"Category: {_category}\")\n",
    "    print(f\"  {len(_ledger['conflict-rate'])} states with conflicts / {_ledger['combos']} conflicting combos\")\n",
    "    print(f\"  State, Deviation from 50-50 Balance, Conflict Rate\")\n",
    "    print(f\"  { _ledger[\"conflict-rate\"]}\")\n",
    "    if _ledger[\"example\"] is not None:\n",
    "        xx, chamber, ensemble = _ledger[\"example\"]\n",
    "        print(f\"  Example conflict: {xx} / {chamber} / {ensemble}\")\n",
    "        print(f\"  Values = {_ledger['values']}  (delta = {_ledger['delta']})\")\n",
    "    print()"
   ]
  },
  {
   "cell_type": "markdown",
   "id": "53785cd3",
   "metadata": {},
   "source": []
  }
 ],
 "metadata": {
  "kernelspec": {
   "display_name": "rdametrics",
   "language": "python",
   "name": "python3"
  },
  "language_info": {
   "codemirror_mode": {
    "name": "ipython",
    "version": 3
   },
   "file_extension": ".py",
   "mimetype": "text/x-python",
   "name": "python",
   "nbconvert_exporter": "python",
   "pygments_lexer": "ipython3",
   "version": "3.13.1"
  }
 },
 "nbformat": 4,
 "nbformat_minor": 5
}
