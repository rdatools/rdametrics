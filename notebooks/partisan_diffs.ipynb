{
 "cells": [
  {
   "cell_type": "markdown",
   "id": "5e89d6dc",
   "metadata": {},
   "source": [
    "The purpose of this notebook is to identify the frequency of conflicts between metrics that purport to measure the degree to which a plan favors one party or another."
   ]
  },
  {
   "cell_type": "code",
   "execution_count": 1,
   "id": "f3e85013",
   "metadata": {},
   "outputs": [],
   "source": [
    "from typing import List, Dict, Any, Set\n",
    "\n",
    "import os\n",
    "import pandas as pd\n",
    "from collections import defaultdict\n",
    "\n",
    "from rdametrics import states, chambers, ensembles"
   ]
  },
  {
   "cell_type": "markdown",
   "id": "f8d44017",
   "metadata": {},
   "source": [
    "Load the scores dataframe"
   ]
  },
  {
   "cell_type": "code",
   "execution_count": 2,
   "id": "1914913e",
   "metadata": {},
   "outputs": [],
   "source": [
    "scores_path: str = \"~/local/beta-ensembles/prepackaged/scores/scores.parquet\"\n",
    "scores_df = pd.read_parquet(os.path.expanduser(scores_path))"
   ]
  },
  {
   "cell_type": "markdown",
   "id": "58765517",
   "metadata": {},
   "source": [
    "Helper code"
   ]
  },
  {
   "cell_type": "code",
   "execution_count": 21,
   "id": "fae95b01",
   "metadata": {},
   "outputs": [],
   "source": [
    "# from typing import Union\n",
    "import pandas as pd\n",
    "# import numpy as np\n",
    "\n",
    "ensembles = [e for e in ensembles if e not in [\"A1\", \"A2\", \"A3\", \"A4\", \"Rev*\"]]\n",
    "\n",
    "partisan_bias = {\n",
    "    \"partisan_advantage\": [\"disproportionality\", \"efficiency_gap\"],\n",
    "    \"symmetry\": [\"geometric_seats_bias\", \"seats_bias\", \"votes_bias\"],\n",
    "    \"packing_cracking\": [\"mean_median_average_district\", \"lopsided_outcomes\", \"declination\"],\n",
    "}\n",
    "\n",
    "categories: List[str] = list(partisan_bias.keys())\n",
    "\n",
    "def same_sign(a: float | int | None, b: float | int | None) -> bool:\n",
    "    if a == 0.0 or b == 0.0:\n",
    "        return True\n",
    "    \n",
    "    if pd.isna(a) or pd.isna(b):\n",
    "        return True\n",
    "\n",
    "    return a * b > 0\n",
    "\n",
    "# def same_sign(a, b):\n",
    "#     if a == 0.0 or b == 0.0:\n",
    "#         return True\n",
    "    \n",
    "#     if pd.isna(a) or pd.isna(b):\n",
    "#         return True\n",
    "\n",
    "#     return a * b > 0\n",
    "\n",
    "# def same_signs(list1, list2):\n",
    "#     # Combine both lists and filter out zero values and NaN values\n",
    "#     all_values = list1 + list2\n",
    "#     non_zero_defined_values = [x for x in all_values if x != 0 and not pd.isna(x)]\n",
    "    \n",
    "#     # If no valid values or only one valid value, return True\n",
    "#     if len(non_zero_defined_values) <= 1:\n",
    "#         return True\n",
    "    \n",
    "#     # Check if all valid values have the same sign\n",
    "#     all_positive = all(x > 0 for x in non_zero_defined_values)\n",
    "#     all_negative = all(x < 0 for x in non_zero_defined_values)\n",
    "    \n",
    "#     return all_positive or all_negative\n",
    "\n"
   ]
  },
  {
   "cell_type": "markdown",
   "id": "4ae40eb6",
   "metadata": {},
   "source": [
    "Setup counters for various kinds of conflicts."
   ]
  },
  {
   "cell_type": "code",
   "execution_count": 23,
   "id": "fbc1273c",
   "metadata": {},
   "outputs": [
    {
     "data": {
      "text/plain": [
       "{'partisan_advantage': {('disproportionality', 'efficiency_gap'): {'count': 0,\n",
       "   'combos': set(),\n",
       "   'example': None,\n",
       "   'value1': None,\n",
       "   'value2': None}},\n",
       " 'symmetry': {('geometric_seats_bias', 'seats_bias'): {'count': 0,\n",
       "   'combos': set(),\n",
       "   'example': None,\n",
       "   'value1': None,\n",
       "   'value2': None},\n",
       "  ('geometric_seats_bias', 'votes_bias'): {'count': 0,\n",
       "   'combos': set(),\n",
       "   'example': None,\n",
       "   'value1': None,\n",
       "   'value2': None},\n",
       "  ('seats_bias', 'votes_bias'): {'count': 0,\n",
       "   'combos': set(),\n",
       "   'example': None,\n",
       "   'value1': None,\n",
       "   'value2': None}},\n",
       " 'packing_cracking': {('mean_median_average_district',\n",
       "   'lopsided_outcomes'): {'count': 0, 'combos': set(), 'example': None, 'value1': None, 'value2': None},\n",
       "  ('mean_median_average_district', 'declination'): {'count': 0,\n",
       "   'combos': set(),\n",
       "   'example': None,\n",
       "   'value1': None,\n",
       "   'value2': None},\n",
       "  ('lopsided_outcomes', 'declination'): {'count': 0,\n",
       "   'combos': set(),\n",
       "   'example': None,\n",
       "   'value1': None,\n",
       "   'value2': None}},\n",
       " 'cross_category': {('partisan_advantage', 'symmetry'): {'count': 0,\n",
       "   'combos': set(),\n",
       "   'example': None,\n",
       "   'value1': None,\n",
       "   'value2': None},\n",
       "  ('partisan_advantage', 'packing_cracking'): {'count': 0,\n",
       "   'combos': set(),\n",
       "   'example': None,\n",
       "   'value1': None,\n",
       "   'value2': None},\n",
       "  ('symmetry', 'packing_cracking'): {'count': 0,\n",
       "   'combos': set(),\n",
       "   'example': None,\n",
       "   'value1': None,\n",
       "   'value2': None}}}"
      ]
     },
     "execution_count": 23,
     "metadata": {},
     "output_type": "execute_result"
    }
   ],
   "source": [
    "from itertools import combinations\n",
    "import copy\n",
    "\n",
    "by_state: Dict[str, Any] = dict()\n",
    "\n",
    "for xx in states:\n",
    "    by_state[xx] = {\n",
    "        \"Vf\": None,\n",
    "        \"total\": 0\n",
    "    }\n",
    "\n",
    "conflicts = dict()\n",
    "ledger = {\n",
    "    \"count\": 0,\n",
    "    \"combos\": set(),\n",
    "    \"example\": None,\n",
    "    \"value1\": None,\n",
    "    \"value2\": None,\n",
    "}\n",
    "\n",
    "for c in categories:\n",
    "    conflicts[c] = dict()\n",
    "    pairs = combinations(partisan_bias[c], 2)\n",
    "    for p in pairs:\n",
    "        conflicts[c][p] = copy.deepcopy(ledger)\n",
    "conflicts[\"cross_category\"] = dict()\n",
    "pairs = combinations(categories, 2)\n",
    "for p in pairs:\n",
    "    conflicts[\"cross_category\"][p] = copy.deepcopy(ledger)\n",
    "\n",
    "conflicts"
   ]
  },
  {
   "cell_type": "markdown",
   "id": "4c0d2a2f",
   "metadata": {},
   "source": [
    "Count instances where the scores conflict. Keep track by state / chamber / ensemble combination."
   ]
  },
  {
   "cell_type": "code",
   "execution_count": 22,
   "id": "34313206",
   "metadata": {},
   "outputs": [
    {
     "ename": "KeyboardInterrupt",
     "evalue": "",
     "output_type": "error",
     "traceback": [
      "\u001b[31m---------------------------------------------------------------------------\u001b[39m",
      "\u001b[31mKeyboardInterrupt\u001b[39m                         Traceback (most recent call last)",
      "\u001b[36mCell\u001b[39m\u001b[36m \u001b[39m\u001b[32mIn[22]\u001b[39m\u001b[32m, line 21\u001b[39m\n\u001b[32m     19\u001b[39m \u001b[38;5;28;01mfor\u001b[39;00m pair, ledger \u001b[38;5;129;01min\u001b[39;00m conflicts[c].items():\n\u001b[32m     20\u001b[39m     m1, m2 = pair\n\u001b[32m---> \u001b[39m\u001b[32m21\u001b[39m     v1 = \u001b[38;5;28mfloat\u001b[39m(row[m1]) \u001b[38;5;28;01mif\u001b[39;00m \u001b[43mpd\u001b[49m\u001b[43m.\u001b[49m\u001b[43mnotna\u001b[49m\u001b[43m(\u001b[49m\u001b[43mrow\u001b[49m\u001b[43m[\u001b[49m\u001b[43mm1\u001b[49m\u001b[43m]\u001b[49m\u001b[43m)\u001b[49m \u001b[38;5;28;01melse\u001b[39;00m \u001b[38;5;28;01mNone\u001b[39;00m\n\u001b[32m     22\u001b[39m     v2 = \u001b[38;5;28mfloat\u001b[39m(row[m2]) \u001b[38;5;28;01mif\u001b[39;00m pd.notna(row[m2]) \u001b[38;5;28;01melse\u001b[39;00m \u001b[38;5;28;01mNone\u001b[39;00m\n\u001b[32m     23\u001b[39m     \u001b[38;5;28;01mif\u001b[39;00m \u001b[38;5;129;01mnot\u001b[39;00m same_sign(v1, v2):\n",
      "\u001b[36mFile \u001b[39m\u001b[32m~/.venvs/rdametrics/lib/python3.13/site-packages/pandas/core/dtypes/missing.py:380\u001b[39m, in \u001b[36mnotna\u001b[39m\u001b[34m(obj)\u001b[39m\n\u001b[32m    375\u001b[39m \u001b[38;5;129m@overload\u001b[39m\n\u001b[32m    376\u001b[39m \u001b[38;5;28;01mdef\u001b[39;00m\u001b[38;5;250m \u001b[39m\u001b[34mnotna\u001b[39m(obj: \u001b[38;5;28mobject\u001b[39m) -> \u001b[38;5;28mbool\u001b[39m | npt.NDArray[np.bool_] | NDFrame:\n\u001b[32m    377\u001b[39m     ...\n\u001b[32m--> \u001b[39m\u001b[32m380\u001b[39m \u001b[38;5;28;01mdef\u001b[39;00m\u001b[38;5;250m \u001b[39m\u001b[34mnotna\u001b[39m(obj: \u001b[38;5;28mobject\u001b[39m) -> \u001b[38;5;28mbool\u001b[39m | npt.NDArray[np.bool_] | NDFrame:\n\u001b[32m    381\u001b[39m \u001b[38;5;250m    \u001b[39m\u001b[33;03m\"\"\"\u001b[39;00m\n\u001b[32m    382\u001b[39m \u001b[33;03m    Detect non-missing values for an array-like object.\u001b[39;00m\n\u001b[32m    383\u001b[39m \n\u001b[32m   (...)\u001b[39m\u001b[32m    455\u001b[39m \u001b[33;03m    Name: 1, dtype: bool\u001b[39;00m\n\u001b[32m    456\u001b[39m \u001b[33;03m    \"\"\"\u001b[39;00m\n\u001b[32m    457\u001b[39m     res = isna(obj)\n",
      "\u001b[31mKeyboardInterrupt\u001b[39m: "
     ]
    }
   ],
   "source": [
    "for index, row in scores_df.iterrows():\n",
    "    if row[\"ensemble\"] not in ensembles:\n",
    "        continue\n",
    "\n",
    "    xx, chamber, ensemble = (row[\"state\"], row[\"chamber\"], row[\"ensemble\"])\n",
    "    combo = (xx, chamber, ensemble)\n",
    "\n",
    "    by_state[xx][\"total\"] += 1\n",
    "    if by_state[xx][\"Vf\"] is None:\n",
    "        by_state[xx][\"Vf\"] = row[\"estimated_vote_pct\"]\n",
    "\n",
    "    partisan_advantage_consistent: bool = True\n",
    "    packing_cracking_consistent: bool = True\n",
    "    partisan_symmetry_consistent: bool = True\n",
    "\n",
    "    # Check consistency within each category\n",
    "\n",
    "    for c in categories:\n",
    "        for pair, ledger in conflicts[c].items():\n",
    "            m1, m2 = pair\n",
    "            v1 = float(row[m1]) if pd.notna(row[m1]) else None\n",
    "            v2 = float(row[m2]) if pd.notna(row[m2]) else None\n",
    "            if not same_sign(v1, v2):\n",
    "                ledger[\"count\"] += 1\n",
    "                ledger[\"combos\"].add(combo)\n",
    "                if ledger[\"example\"] is None:\n",
    "                    ledger[\"example\"] = combo\n",
    "                    ledger[\"value1\"] = v1\n",
    "                    ledger[\"value2\"] = v2\n",
    "\n",
    "    # Compare consistency across categories"
   ]
  }
 ],
 "metadata": {
  "kernelspec": {
   "display_name": "rdametrics",
   "language": "python",
   "name": "python3"
  },
  "language_info": {
   "codemirror_mode": {
    "name": "ipython",
    "version": 3
   },
   "file_extension": ".py",
   "mimetype": "text/x-python",
   "name": "python",
   "nbconvert_exporter": "python",
   "pygments_lexer": "ipython3",
   "version": "3.13.1"
  }
 },
 "nbformat": 4,
 "nbformat_minor": 5
}
